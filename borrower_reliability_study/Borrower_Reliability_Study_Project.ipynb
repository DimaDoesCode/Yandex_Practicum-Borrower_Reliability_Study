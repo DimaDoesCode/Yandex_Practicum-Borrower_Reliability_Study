{
 "cells": [
  {
   "cell_type": "markdown",
   "id": "00a6ba85",
   "metadata": {
    "deletable": false,
    "editable": false,
    "id": "c81daeeb"
   },
   "source": [
    "# Исследование надежности заемщиков\n"
   ]
  },
  {
   "cell_type": "markdown",
   "id": "8d0c01f3",
   "metadata": {
    "deletable": false,
    "editable": false,
    "id": "827c20bf"
   },
   "source": [
    "Во второй части проекта вы выполните шаги 3 и 4. Их вручную проверит ревьюер.\n",
    "Чтобы вам не пришлось писать код заново для шагов 1 и 2, мы добавили авторские решения в ячейки с кодом. \n",
    "\n"
   ]
  },
  {
   "cell_type": "markdown",
   "id": "01fbad58",
   "metadata": {
    "deletable": false,
    "editable": false,
    "id": "744d7639"
   },
   "source": [
    "## Откройте таблицу и изучите общую информацию о данных"
   ]
  },
  {
   "cell_type": "markdown",
   "id": "7280aef9",
   "metadata": {
    "deletable": false,
    "editable": false,
    "id": "e7a14c31"
   },
   "source": [
    "**Задание 1. Импортируйте библиотеку pandas. Считайте данные из csv-файла в датафрейм и сохраните в переменную `data`. Путь к файлу:**\n",
    "\n",
    "`/datasets/data.csv`"
   ]
  },
  {
   "cell_type": "code",
   "execution_count": 1,
   "id": "185d6f61",
   "metadata": {
    "deletable": false,
    "id": "7bcf75c9"
   },
   "outputs": [],
   "source": [
    "import pandas as pd\n",
    "\n",
    "try:\n",
    "    data = pd.read_csv('data.csv')\n",
    "except:\n",
    "    print('No Data')"
   ]
  },
  {
   "cell_type": "markdown",
   "id": "ab8c48f4",
   "metadata": {
    "deletable": false,
    "editable": false,
    "id": "b8038fe3"
   },
   "source": [
    "**Задание 2. Выведите первые 20 строчек датафрейма `data` на экран.**"
   ]
  },
  {
   "cell_type": "code",
   "execution_count": 2,
   "id": "44d98005",
   "metadata": {
    "deletable": false,
    "id": "2a7cab99",
    "outputId": "1a8f3ef2-d323-4ec2-ddf7-89670b5944c4"
   },
   "outputs": [
    {
     "data": {
      "text/html": [
       "<div>\n",
       "<style scoped>\n",
       "    .dataframe tbody tr th:only-of-type {\n",
       "        vertical-align: middle;\n",
       "    }\n",
       "\n",
       "    .dataframe tbody tr th {\n",
       "        vertical-align: top;\n",
       "    }\n",
       "\n",
       "    .dataframe thead th {\n",
       "        text-align: right;\n",
       "    }\n",
       "</style>\n",
       "<table border=\"1\" class=\"dataframe\">\n",
       "  <thead>\n",
       "    <tr style=\"text-align: right;\">\n",
       "      <th></th>\n",
       "      <th>children</th>\n",
       "      <th>days_employed</th>\n",
       "      <th>dob_years</th>\n",
       "      <th>education</th>\n",
       "      <th>education_id</th>\n",
       "      <th>family_status</th>\n",
       "      <th>family_status_id</th>\n",
       "      <th>gender</th>\n",
       "      <th>income_type</th>\n",
       "      <th>debt</th>\n",
       "      <th>total_income</th>\n",
       "      <th>purpose</th>\n",
       "    </tr>\n",
       "  </thead>\n",
       "  <tbody>\n",
       "    <tr>\n",
       "      <th>0</th>\n",
       "      <td>1</td>\n",
       "      <td>-8437.673028</td>\n",
       "      <td>42</td>\n",
       "      <td>высшее</td>\n",
       "      <td>0</td>\n",
       "      <td>женат / замужем</td>\n",
       "      <td>0</td>\n",
       "      <td>F</td>\n",
       "      <td>сотрудник</td>\n",
       "      <td>0</td>\n",
       "      <td>253875.639453</td>\n",
       "      <td>покупка жилья</td>\n",
       "    </tr>\n",
       "    <tr>\n",
       "      <th>1</th>\n",
       "      <td>1</td>\n",
       "      <td>-4024.803754</td>\n",
       "      <td>36</td>\n",
       "      <td>среднее</td>\n",
       "      <td>1</td>\n",
       "      <td>женат / замужем</td>\n",
       "      <td>0</td>\n",
       "      <td>F</td>\n",
       "      <td>сотрудник</td>\n",
       "      <td>0</td>\n",
       "      <td>112080.014102</td>\n",
       "      <td>приобретение автомобиля</td>\n",
       "    </tr>\n",
       "    <tr>\n",
       "      <th>2</th>\n",
       "      <td>0</td>\n",
       "      <td>-5623.422610</td>\n",
       "      <td>33</td>\n",
       "      <td>Среднее</td>\n",
       "      <td>1</td>\n",
       "      <td>женат / замужем</td>\n",
       "      <td>0</td>\n",
       "      <td>M</td>\n",
       "      <td>сотрудник</td>\n",
       "      <td>0</td>\n",
       "      <td>145885.952297</td>\n",
       "      <td>покупка жилья</td>\n",
       "    </tr>\n",
       "    <tr>\n",
       "      <th>3</th>\n",
       "      <td>3</td>\n",
       "      <td>-4124.747207</td>\n",
       "      <td>32</td>\n",
       "      <td>среднее</td>\n",
       "      <td>1</td>\n",
       "      <td>женат / замужем</td>\n",
       "      <td>0</td>\n",
       "      <td>M</td>\n",
       "      <td>сотрудник</td>\n",
       "      <td>0</td>\n",
       "      <td>267628.550329</td>\n",
       "      <td>дополнительное образование</td>\n",
       "    </tr>\n",
       "    <tr>\n",
       "      <th>4</th>\n",
       "      <td>0</td>\n",
       "      <td>340266.072047</td>\n",
       "      <td>53</td>\n",
       "      <td>среднее</td>\n",
       "      <td>1</td>\n",
       "      <td>гражданский брак</td>\n",
       "      <td>1</td>\n",
       "      <td>F</td>\n",
       "      <td>пенсионер</td>\n",
       "      <td>0</td>\n",
       "      <td>158616.077870</td>\n",
       "      <td>сыграть свадьбу</td>\n",
       "    </tr>\n",
       "    <tr>\n",
       "      <th>5</th>\n",
       "      <td>0</td>\n",
       "      <td>-926.185831</td>\n",
       "      <td>27</td>\n",
       "      <td>высшее</td>\n",
       "      <td>0</td>\n",
       "      <td>гражданский брак</td>\n",
       "      <td>1</td>\n",
       "      <td>M</td>\n",
       "      <td>компаньон</td>\n",
       "      <td>0</td>\n",
       "      <td>255763.565419</td>\n",
       "      <td>покупка жилья</td>\n",
       "    </tr>\n",
       "    <tr>\n",
       "      <th>6</th>\n",
       "      <td>0</td>\n",
       "      <td>-2879.202052</td>\n",
       "      <td>43</td>\n",
       "      <td>высшее</td>\n",
       "      <td>0</td>\n",
       "      <td>женат / замужем</td>\n",
       "      <td>0</td>\n",
       "      <td>F</td>\n",
       "      <td>компаньон</td>\n",
       "      <td>0</td>\n",
       "      <td>240525.971920</td>\n",
       "      <td>операции с жильем</td>\n",
       "    </tr>\n",
       "    <tr>\n",
       "      <th>7</th>\n",
       "      <td>0</td>\n",
       "      <td>-152.779569</td>\n",
       "      <td>50</td>\n",
       "      <td>СРЕДНЕЕ</td>\n",
       "      <td>1</td>\n",
       "      <td>женат / замужем</td>\n",
       "      <td>0</td>\n",
       "      <td>M</td>\n",
       "      <td>сотрудник</td>\n",
       "      <td>0</td>\n",
       "      <td>135823.934197</td>\n",
       "      <td>образование</td>\n",
       "    </tr>\n",
       "    <tr>\n",
       "      <th>8</th>\n",
       "      <td>2</td>\n",
       "      <td>-6929.865299</td>\n",
       "      <td>35</td>\n",
       "      <td>ВЫСШЕЕ</td>\n",
       "      <td>0</td>\n",
       "      <td>гражданский брак</td>\n",
       "      <td>1</td>\n",
       "      <td>F</td>\n",
       "      <td>сотрудник</td>\n",
       "      <td>0</td>\n",
       "      <td>95856.832424</td>\n",
       "      <td>на проведение свадьбы</td>\n",
       "    </tr>\n",
       "    <tr>\n",
       "      <th>9</th>\n",
       "      <td>0</td>\n",
       "      <td>-2188.756445</td>\n",
       "      <td>41</td>\n",
       "      <td>среднее</td>\n",
       "      <td>1</td>\n",
       "      <td>женат / замужем</td>\n",
       "      <td>0</td>\n",
       "      <td>M</td>\n",
       "      <td>сотрудник</td>\n",
       "      <td>0</td>\n",
       "      <td>144425.938277</td>\n",
       "      <td>покупка жилья для семьи</td>\n",
       "    </tr>\n",
       "    <tr>\n",
       "      <th>10</th>\n",
       "      <td>2</td>\n",
       "      <td>-4171.483647</td>\n",
       "      <td>36</td>\n",
       "      <td>высшее</td>\n",
       "      <td>0</td>\n",
       "      <td>женат / замужем</td>\n",
       "      <td>0</td>\n",
       "      <td>M</td>\n",
       "      <td>компаньон</td>\n",
       "      <td>0</td>\n",
       "      <td>113943.491460</td>\n",
       "      <td>покупка недвижимости</td>\n",
       "    </tr>\n",
       "    <tr>\n",
       "      <th>11</th>\n",
       "      <td>0</td>\n",
       "      <td>-792.701887</td>\n",
       "      <td>40</td>\n",
       "      <td>среднее</td>\n",
       "      <td>1</td>\n",
       "      <td>женат / замужем</td>\n",
       "      <td>0</td>\n",
       "      <td>F</td>\n",
       "      <td>сотрудник</td>\n",
       "      <td>0</td>\n",
       "      <td>77069.234271</td>\n",
       "      <td>покупка коммерческой недвижимости</td>\n",
       "    </tr>\n",
       "    <tr>\n",
       "      <th>12</th>\n",
       "      <td>0</td>\n",
       "      <td>NaN</td>\n",
       "      <td>65</td>\n",
       "      <td>среднее</td>\n",
       "      <td>1</td>\n",
       "      <td>гражданский брак</td>\n",
       "      <td>1</td>\n",
       "      <td>M</td>\n",
       "      <td>пенсионер</td>\n",
       "      <td>0</td>\n",
       "      <td>NaN</td>\n",
       "      <td>сыграть свадьбу</td>\n",
       "    </tr>\n",
       "    <tr>\n",
       "      <th>13</th>\n",
       "      <td>0</td>\n",
       "      <td>-1846.641941</td>\n",
       "      <td>54</td>\n",
       "      <td>неоконченное высшее</td>\n",
       "      <td>2</td>\n",
       "      <td>женат / замужем</td>\n",
       "      <td>0</td>\n",
       "      <td>F</td>\n",
       "      <td>сотрудник</td>\n",
       "      <td>0</td>\n",
       "      <td>130458.228857</td>\n",
       "      <td>приобретение автомобиля</td>\n",
       "    </tr>\n",
       "    <tr>\n",
       "      <th>14</th>\n",
       "      <td>0</td>\n",
       "      <td>-1844.956182</td>\n",
       "      <td>56</td>\n",
       "      <td>высшее</td>\n",
       "      <td>0</td>\n",
       "      <td>гражданский брак</td>\n",
       "      <td>1</td>\n",
       "      <td>F</td>\n",
       "      <td>компаньон</td>\n",
       "      <td>1</td>\n",
       "      <td>165127.911772</td>\n",
       "      <td>покупка жилой недвижимости</td>\n",
       "    </tr>\n",
       "    <tr>\n",
       "      <th>15</th>\n",
       "      <td>1</td>\n",
       "      <td>-972.364419</td>\n",
       "      <td>26</td>\n",
       "      <td>среднее</td>\n",
       "      <td>1</td>\n",
       "      <td>женат / замужем</td>\n",
       "      <td>0</td>\n",
       "      <td>F</td>\n",
       "      <td>сотрудник</td>\n",
       "      <td>0</td>\n",
       "      <td>116820.904450</td>\n",
       "      <td>строительство собственной недвижимости</td>\n",
       "    </tr>\n",
       "    <tr>\n",
       "      <th>16</th>\n",
       "      <td>0</td>\n",
       "      <td>-1719.934226</td>\n",
       "      <td>35</td>\n",
       "      <td>среднее</td>\n",
       "      <td>1</td>\n",
       "      <td>женат / замужем</td>\n",
       "      <td>0</td>\n",
       "      <td>F</td>\n",
       "      <td>сотрудник</td>\n",
       "      <td>0</td>\n",
       "      <td>289202.704229</td>\n",
       "      <td>недвижимость</td>\n",
       "    </tr>\n",
       "    <tr>\n",
       "      <th>17</th>\n",
       "      <td>0</td>\n",
       "      <td>-2369.999720</td>\n",
       "      <td>33</td>\n",
       "      <td>высшее</td>\n",
       "      <td>0</td>\n",
       "      <td>гражданский брак</td>\n",
       "      <td>1</td>\n",
       "      <td>M</td>\n",
       "      <td>сотрудник</td>\n",
       "      <td>0</td>\n",
       "      <td>90410.586745</td>\n",
       "      <td>строительство недвижимости</td>\n",
       "    </tr>\n",
       "    <tr>\n",
       "      <th>18</th>\n",
       "      <td>0</td>\n",
       "      <td>400281.136913</td>\n",
       "      <td>53</td>\n",
       "      <td>среднее</td>\n",
       "      <td>1</td>\n",
       "      <td>вдовец / вдова</td>\n",
       "      <td>2</td>\n",
       "      <td>F</td>\n",
       "      <td>пенсионер</td>\n",
       "      <td>0</td>\n",
       "      <td>56823.777243</td>\n",
       "      <td>на покупку подержанного автомобиля</td>\n",
       "    </tr>\n",
       "    <tr>\n",
       "      <th>19</th>\n",
       "      <td>0</td>\n",
       "      <td>-10038.818549</td>\n",
       "      <td>48</td>\n",
       "      <td>СРЕДНЕЕ</td>\n",
       "      <td>1</td>\n",
       "      <td>в разводе</td>\n",
       "      <td>3</td>\n",
       "      <td>F</td>\n",
       "      <td>сотрудник</td>\n",
       "      <td>0</td>\n",
       "      <td>242831.107982</td>\n",
       "      <td>на покупку своего автомобиля</td>\n",
       "    </tr>\n",
       "  </tbody>\n",
       "</table>\n",
       "</div>"
      ],
      "text/plain": [
       "    children  days_employed  dob_years            education  education_id  \\\n",
       "0          1   -8437.673028         42               высшее             0   \n",
       "1          1   -4024.803754         36              среднее             1   \n",
       "2          0   -5623.422610         33              Среднее             1   \n",
       "3          3   -4124.747207         32              среднее             1   \n",
       "4          0  340266.072047         53              среднее             1   \n",
       "5          0    -926.185831         27               высшее             0   \n",
       "6          0   -2879.202052         43               высшее             0   \n",
       "7          0    -152.779569         50              СРЕДНЕЕ             1   \n",
       "8          2   -6929.865299         35               ВЫСШЕЕ             0   \n",
       "9          0   -2188.756445         41              среднее             1   \n",
       "10         2   -4171.483647         36               высшее             0   \n",
       "11         0    -792.701887         40              среднее             1   \n",
       "12         0            NaN         65              среднее             1   \n",
       "13         0   -1846.641941         54  неоконченное высшее             2   \n",
       "14         0   -1844.956182         56               высшее             0   \n",
       "15         1    -972.364419         26              среднее             1   \n",
       "16         0   -1719.934226         35              среднее             1   \n",
       "17         0   -2369.999720         33               высшее             0   \n",
       "18         0  400281.136913         53              среднее             1   \n",
       "19         0  -10038.818549         48              СРЕДНЕЕ             1   \n",
       "\n",
       "       family_status  family_status_id gender income_type  debt  \\\n",
       "0    женат / замужем                 0      F   сотрудник     0   \n",
       "1    женат / замужем                 0      F   сотрудник     0   \n",
       "2    женат / замужем                 0      M   сотрудник     0   \n",
       "3    женат / замужем                 0      M   сотрудник     0   \n",
       "4   гражданский брак                 1      F   пенсионер     0   \n",
       "5   гражданский брак                 1      M   компаньон     0   \n",
       "6    женат / замужем                 0      F   компаньон     0   \n",
       "7    женат / замужем                 0      M   сотрудник     0   \n",
       "8   гражданский брак                 1      F   сотрудник     0   \n",
       "9    женат / замужем                 0      M   сотрудник     0   \n",
       "10   женат / замужем                 0      M   компаньон     0   \n",
       "11   женат / замужем                 0      F   сотрудник     0   \n",
       "12  гражданский брак                 1      M   пенсионер     0   \n",
       "13   женат / замужем                 0      F   сотрудник     0   \n",
       "14  гражданский брак                 1      F   компаньон     1   \n",
       "15   женат / замужем                 0      F   сотрудник     0   \n",
       "16   женат / замужем                 0      F   сотрудник     0   \n",
       "17  гражданский брак                 1      M   сотрудник     0   \n",
       "18    вдовец / вдова                 2      F   пенсионер     0   \n",
       "19         в разводе                 3      F   сотрудник     0   \n",
       "\n",
       "     total_income                                 purpose  \n",
       "0   253875.639453                           покупка жилья  \n",
       "1   112080.014102                 приобретение автомобиля  \n",
       "2   145885.952297                           покупка жилья  \n",
       "3   267628.550329              дополнительное образование  \n",
       "4   158616.077870                         сыграть свадьбу  \n",
       "5   255763.565419                           покупка жилья  \n",
       "6   240525.971920                       операции с жильем  \n",
       "7   135823.934197                             образование  \n",
       "8    95856.832424                   на проведение свадьбы  \n",
       "9   144425.938277                 покупка жилья для семьи  \n",
       "10  113943.491460                    покупка недвижимости  \n",
       "11   77069.234271       покупка коммерческой недвижимости  \n",
       "12            NaN                         сыграть свадьбу  \n",
       "13  130458.228857                 приобретение автомобиля  \n",
       "14  165127.911772              покупка жилой недвижимости  \n",
       "15  116820.904450  строительство собственной недвижимости  \n",
       "16  289202.704229                            недвижимость  \n",
       "17   90410.586745              строительство недвижимости  \n",
       "18   56823.777243      на покупку подержанного автомобиля  \n",
       "19  242831.107982            на покупку своего автомобиля  "
      ]
     },
     "execution_count": 2,
     "metadata": {},
     "output_type": "execute_result"
    }
   ],
   "source": [
    "data.head(20)"
   ]
  },
  {
   "cell_type": "markdown",
   "id": "fa101b42",
   "metadata": {
    "deletable": false,
    "editable": false,
    "id": "1c12e233"
   },
   "source": [
    "**Задание 3. Выведите основную информацию о датафрейме с помощью метода `info()`.**"
   ]
  },
  {
   "cell_type": "code",
   "execution_count": 3,
   "id": "1c6ccb06",
   "metadata": {
    "deletable": false,
    "id": "2b757bca",
    "outputId": "15376089-8dad-46c9-b520-c05248d43158"
   },
   "outputs": [
    {
     "name": "stdout",
     "output_type": "stream",
     "text": [
      "<class 'pandas.core.frame.DataFrame'>\n",
      "RangeIndex: 21525 entries, 0 to 21524\n",
      "Data columns (total 12 columns):\n",
      " #   Column            Non-Null Count  Dtype  \n",
      "---  ------            --------------  -----  \n",
      " 0   children          21525 non-null  int64  \n",
      " 1   days_employed     19351 non-null  float64\n",
      " 2   dob_years         21525 non-null  int64  \n",
      " 3   education         21525 non-null  object \n",
      " 4   education_id      21525 non-null  int64  \n",
      " 5   family_status     21525 non-null  object \n",
      " 6   family_status_id  21525 non-null  int64  \n",
      " 7   gender            21525 non-null  object \n",
      " 8   income_type       21525 non-null  object \n",
      " 9   debt              21525 non-null  int64  \n",
      " 10  total_income      19351 non-null  float64\n",
      " 11  purpose           21525 non-null  object \n",
      "dtypes: float64(2), int64(5), object(5)\n",
      "memory usage: 2.0+ MB\n"
     ]
    }
   ],
   "source": [
    "data.info()"
   ]
  },
  {
   "cell_type": "markdown",
   "id": "875ee5a7",
   "metadata": {
    "deletable": false,
    "editable": false,
    "id": "333ec665"
   },
   "source": [
    "## Предобработка данных"
   ]
  },
  {
   "cell_type": "markdown",
   "id": "90e17fbd",
   "metadata": {
    "deletable": false,
    "editable": false,
    "id": "02d92d53"
   },
   "source": [
    "### Удаление пропусков"
   ]
  },
  {
   "cell_type": "markdown",
   "id": "6458a75d",
   "metadata": {
    "deletable": false,
    "editable": false,
    "id": "cd84967c"
   },
   "source": [
    "**Задание 4. Выведите количество пропущенных значений для каждого столбца. Используйте комбинацию двух методов.**"
   ]
  },
  {
   "cell_type": "code",
   "execution_count": 4,
   "id": "3e5fe2c3",
   "metadata": {
    "deletable": false,
    "id": "7f9b2309",
    "outputId": "81f4d817-781c-465c-ed15-91ce4446810d"
   },
   "outputs": [
    {
     "data": {
      "text/plain": [
       "children               0\n",
       "days_employed       2174\n",
       "dob_years              0\n",
       "education              0\n",
       "education_id           0\n",
       "family_status          0\n",
       "family_status_id       0\n",
       "gender                 0\n",
       "income_type            0\n",
       "debt                   0\n",
       "total_income        2174\n",
       "purpose                0\n",
       "dtype: int64"
      ]
     },
     "execution_count": 4,
     "metadata": {},
     "output_type": "execute_result"
    }
   ],
   "source": [
    "data.isna().sum()"
   ]
  },
  {
   "cell_type": "markdown",
   "id": "7a2864b5",
   "metadata": {
    "deletable": false,
    "editable": false,
    "id": "db86e27b"
   },
   "source": [
    "**Задание 5. В двух столбцах есть пропущенные значения. Один из них — `days_employed`. Пропуски в этом столбце вы обработаете на следующем этапе. Другой столбец с пропущенными значениями — `total_income` — хранит данные о доходах. На сумму дохода сильнее всего влияет тип занятости, поэтому заполнить пропуски в этом столбце нужно медианным значением по каждому типу из столбца `income_type`. Например, у человека с типом занятости `сотрудник` пропуск в столбце `total_income` должен быть заполнен медианным доходом среди всех записей с тем же типом.**"
   ]
  },
  {
   "cell_type": "code",
   "execution_count": 5,
   "id": "abbe4fb3",
   "metadata": {
    "deletable": false,
    "id": "42006a93"
   },
   "outputs": [],
   "source": [
    "for t in data['income_type'].unique():\n",
    "    data.loc[(data['income_type'] == t) & (data['total_income'].isna()), 'total_income'] = \\\n",
    "    data.loc[(data['income_type'] == t), 'total_income'].median()\n",
    "    \n",
    "# or:\n",
    "# temp = data.groupby('income_type')['total_income'].median()\n",
    "# for d in data['income_type'].unique():\n",
    "#     data.loc[(data['income_type'] == d) & (data['total_income'].isna()), 'total_income'] = temp[d]"
   ]
  },
  {
   "cell_type": "markdown",
   "id": "cb254eba",
   "metadata": {
    "deletable": false,
    "editable": false,
    "id": "89da5ece"
   },
   "source": [
    "### Обработка аномальных значений"
   ]
  },
  {
   "cell_type": "markdown",
   "id": "9578fd96",
   "metadata": {
    "deletable": false,
    "editable": false,
    "id": "57964554"
   },
   "source": [
    "**Задание 6. В данных могут встречаться артефакты (аномалии) — значения, которые не отражают действительность и появились по какой-то ошибке. таким артефактом будет отрицательное количество дней трудового стажа в столбце `days_employed`. Для реальных данных это нормально. Обработайте значения в этом столбце: замените все отрицательные значения положительными с помощью метода `abs()`.**"
   ]
  },
  {
   "cell_type": "code",
   "execution_count": 6,
   "id": "af433246",
   "metadata": {
    "deletable": false,
    "id": "f6f055bf"
   },
   "outputs": [],
   "source": [
    "data['days_employed'] = data['days_employed'].abs()"
   ]
  },
  {
   "cell_type": "markdown",
   "id": "908c9b73",
   "metadata": {
    "deletable": false,
    "editable": false,
    "id": "6107dd2f"
   },
   "source": [
    "**Задание 7. Для каждого типа занятости выведите медианное значение трудового стажа `days_employed` в днях.**"
   ]
  },
  {
   "cell_type": "code",
   "execution_count": 7,
   "id": "9067b4bd",
   "metadata": {
    "deletable": false,
    "id": "85a5faf6",
    "outputId": "801ef80e-522b-4668-f34e-565af7432bcf"
   },
   "outputs": [
    {
     "data": {
      "text/plain": [
       "income_type\n",
       "безработный        366413.652744\n",
       "в декрете            3296.759962\n",
       "госслужащий          2689.368353\n",
       "компаньон            1547.382223\n",
       "пенсионер          365213.306266\n",
       "предприниматель       520.848083\n",
       "сотрудник            1574.202821\n",
       "студент               578.751554\n",
       "Name: days_employed, dtype: float64"
      ]
     },
     "execution_count": 7,
     "metadata": {},
     "output_type": "execute_result"
    }
   ],
   "source": [
    "data.groupby('income_type')['days_employed'].agg('median')"
   ]
  },
  {
   "cell_type": "markdown",
   "id": "20881975",
   "metadata": {
    "deletable": false,
    "editable": false,
    "id": "38d1a030"
   },
   "source": [
    "У двух типов (безработные и пенсионеры) получатся аномально большие значения. Исправить такие значения сложно, поэтому оставьте их как есть. Тем более этот столбец не понадобится вам для исследования."
   ]
  },
  {
   "cell_type": "markdown",
   "id": "844d7588",
   "metadata": {
    "deletable": false,
    "editable": false,
    "id": "d8a9f147"
   },
   "source": [
    "**Задание 8. Выведите перечень уникальных значений столбца `children`.**"
   ]
  },
  {
   "cell_type": "code",
   "execution_count": 8,
   "id": "34b71c91",
   "metadata": {
    "deletable": false,
    "id": "ef5056eb",
    "outputId": "6975b15c-7f95-4697-d16d-a0c79b657b03"
   },
   "outputs": [
    {
     "data": {
      "text/plain": [
       "array([ 1,  0,  3,  2, -1,  4, 20,  5], dtype=int64)"
      ]
     },
     "execution_count": 8,
     "metadata": {},
     "output_type": "execute_result"
    }
   ],
   "source": [
    "data['children'].unique()"
   ]
  },
  {
   "cell_type": "markdown",
   "id": "caa495f9",
   "metadata": {
    "deletable": false,
    "editable": false,
    "id": "40b9ebf2"
   },
   "source": [
    "**Задание 9. В столбце `children` есть два аномальных значения. Удалите строки, в которых встречаются такие аномальные значения из датафрейма `data`.**"
   ]
  },
  {
   "cell_type": "code",
   "execution_count": 9,
   "id": "266a90af",
   "metadata": {
    "deletable": false,
    "id": "3ff9801d"
   },
   "outputs": [],
   "source": [
    "data = data[(data['children'] != -1) & (data['children'] != 20)]"
   ]
  },
  {
   "cell_type": "markdown",
   "id": "cbeeec97",
   "metadata": {
    "deletable": false,
    "editable": false,
    "id": "bbc4d0ce"
   },
   "source": [
    "**Задание 10. Ещё раз выведите перечень уникальных значений столбца `children`, чтобы убедиться, что артефакты удалены.**"
   ]
  },
  {
   "cell_type": "code",
   "execution_count": 10,
   "id": "d58a3f4e",
   "metadata": {
    "deletable": false,
    "id": "ad4fa8b7",
    "outputId": "b2097101-d49d-44d9-901b-32a65c9463d1"
   },
   "outputs": [
    {
     "data": {
      "text/plain": [
       "array([1, 0, 3, 2, 4, 5], dtype=int64)"
      ]
     },
     "execution_count": 10,
     "metadata": {},
     "output_type": "execute_result"
    }
   ],
   "source": [
    "data['children'].unique()"
   ]
  },
  {
   "cell_type": "markdown",
   "id": "686143d0",
   "metadata": {
    "deletable": false,
    "editable": false,
    "id": "75440b63"
   },
   "source": [
    "### Удаление пропусков (продолжение)"
   ]
  },
  {
   "cell_type": "markdown",
   "id": "91e16a32",
   "metadata": {
    "deletable": false,
    "editable": false,
    "id": "f4ea573f"
   },
   "source": [
    "**Задание 11. Заполните пропуски в столбце `days_employed` медианными значениями по каждого типа занятости `income_type`.**"
   ]
  },
  {
   "cell_type": "code",
   "execution_count": 11,
   "id": "5508e23c",
   "metadata": {
    "deletable": false,
    "id": "af6b1a7e"
   },
   "outputs": [],
   "source": [
    "for t in data['income_type'].unique():\n",
    "    data.loc[(data['income_type'] == t) & (data['days_employed'].isna()), 'days_employed'] = \\\n",
    "    data.loc[(data['income_type'] == t), 'days_employed'].median()"
   ]
  },
  {
   "cell_type": "markdown",
   "id": "ed0901d8",
   "metadata": {
    "deletable": false,
    "editable": false,
    "id": "2753f40d"
   },
   "source": [
    "**Задание 12. Убедитесь, что все пропуски заполнены. Проверьте себя и ещё раз выведите количество пропущенных значений для каждого столбца с помощью двух методов.**"
   ]
  },
  {
   "cell_type": "code",
   "execution_count": 12,
   "id": "88c9e963",
   "metadata": {
    "deletable": false,
    "id": "55f78bc2",
    "outputId": "8da1e4e1-358e-4e87-98c9-f261bce0a7b2"
   },
   "outputs": [
    {
     "data": {
      "text/plain": [
       "children            0\n",
       "days_employed       0\n",
       "dob_years           0\n",
       "education           0\n",
       "education_id        0\n",
       "family_status       0\n",
       "family_status_id    0\n",
       "gender              0\n",
       "income_type         0\n",
       "debt                0\n",
       "total_income        0\n",
       "purpose             0\n",
       "dtype: int64"
      ]
     },
     "execution_count": 12,
     "metadata": {},
     "output_type": "execute_result"
    }
   ],
   "source": [
    "data.isna().sum()"
   ]
  },
  {
   "cell_type": "markdown",
   "id": "351c557d",
   "metadata": {
    "deletable": false,
    "editable": false,
    "id": "ddc81e43"
   },
   "source": [
    "### Изменение типов данных"
   ]
  },
  {
   "cell_type": "markdown",
   "id": "f394a0fb",
   "metadata": {
    "deletable": false,
    "editable": false,
    "id": "42d19d24"
   },
   "source": [
    "**Задание 13. Замените вещественный тип данных в столбце `total_income` на целочисленный с помощью метода `astype()`.**"
   ]
  },
  {
   "cell_type": "code",
   "execution_count": 13,
   "id": "64e4cf31",
   "metadata": {
    "deletable": false,
    "id": "920b65ad"
   },
   "outputs": [],
   "source": [
    "data['total_income'] = data['total_income'].astype(int)"
   ]
  },
  {
   "cell_type": "markdown",
   "id": "e21c68b5",
   "metadata": {
    "deletable": false,
    "editable": false,
    "id": "80c420ba"
   },
   "source": [
    "### Обработка дубликатов"
   ]
  },
  {
   "cell_type": "markdown",
   "id": "b5cbe8fd",
   "metadata": {
    "deletable": false,
    "editable": false
   },
   "source": [
    "**Задание 14. Обработайте неявные дубликаты в столбце `education`. В этом столбце есть одни и те же значения, но записанные по-разному: с использованием заглавных и строчных букв. Приведите их к нижнему регистру. Проверьте остальные столбцы.**"
   ]
  },
  {
   "cell_type": "code",
   "execution_count": 14,
   "id": "f02a0e1c",
   "metadata": {
    "deletable": false
   },
   "outputs": [],
   "source": [
    "data['education'] = data['education'].str.lower()"
   ]
  },
  {
   "cell_type": "markdown",
   "id": "bbf723c7",
   "metadata": {
    "deletable": false,
    "editable": false,
    "id": "dc587695"
   },
   "source": [
    "**Задание 15. Выведите на экран количество строк-дубликатов в данных. Если такие строки присутствуют, удалите их.**"
   ]
  },
  {
   "cell_type": "code",
   "execution_count": 15,
   "id": "5c556012",
   "metadata": {
    "deletable": false,
    "id": "3ee445e4",
    "outputId": "9684deba-1934-42d1-99e1-cda61740f822"
   },
   "outputs": [
    {
     "data": {
      "text/plain": [
       "71"
      ]
     },
     "execution_count": 15,
     "metadata": {},
     "output_type": "execute_result"
    }
   ],
   "source": [
    "data.duplicated().sum()"
   ]
  },
  {
   "cell_type": "code",
   "execution_count": 16,
   "id": "526cab1a",
   "metadata": {
    "deletable": false,
    "id": "8575fe05"
   },
   "outputs": [],
   "source": [
    "data = data.drop_duplicates()"
   ]
  },
  {
   "cell_type": "markdown",
   "id": "54860615",
   "metadata": {
    "deletable": false,
    "editable": false,
    "id": "9904cf55"
   },
   "source": [
    "### Категоризация данных"
   ]
  },
  {
   "cell_type": "markdown",
   "id": "0b2f81ef",
   "metadata": {
    "deletable": false,
    "editable": false,
    "id": "72fcc8a2"
   },
   "source": [
    "**Задание 16. На основании диапазонов, указанных ниже, создайте в датафрейме `data` столбец `total_income_category` с категориями:**\n",
    "\n",
    "- 0–30000 — `'E'`;\n",
    "- 30001–50000 — `'D'`;\n",
    "- 50001–200000 — `'C'`;\n",
    "- 200001–1000000 — `'B'`;\n",
    "- 1000001 и выше — `'A'`.\n",
    "\n",
    "\n",
    "**Например, кредитополучателю с доходом 25000 нужно назначить категорию `'E'`, а клиенту, получающему 235000, — `'B'`. Используйте собственную функцию с именем `categorize_income()` и метод `apply()`.**"
   ]
  },
  {
   "cell_type": "code",
   "execution_count": 17,
   "id": "76197ec4",
   "metadata": {
    "deletable": false,
    "id": "e1771346"
   },
   "outputs": [],
   "source": [
    "def categorize_income(income):\n",
    "    try:\n",
    "        if 0 <= income <= 30000:\n",
    "            return 'E'\n",
    "        elif 30001 <= income <= 50000:\n",
    "            return 'D'\n",
    "        elif 50001 <= income <= 200000:\n",
    "            return 'C'\n",
    "        elif 200001 <= income <= 1000000:\n",
    "            return 'B'\n",
    "        elif income >= 1000001:\n",
    "            return 'A'\n",
    "    except:\n",
    "        pass"
   ]
  },
  {
   "cell_type": "code",
   "execution_count": 18,
   "id": "b0c232d9",
   "metadata": {
    "deletable": false,
    "id": "d5f3586d"
   },
   "outputs": [],
   "source": [
    "data['total_income_category'] = data['total_income'].apply(categorize_income)"
   ]
  },
  {
   "cell_type": "markdown",
   "id": "3dc899d0",
   "metadata": {
    "deletable": false,
    "editable": false,
    "id": "dde49b5c"
   },
   "source": [
    "**Задание 17. Выведите на экран перечень уникальных целей взятия кредита из столбца `purpose`.**"
   ]
  },
  {
   "cell_type": "code",
   "execution_count": 19,
   "id": "0f2b6fba",
   "metadata": {
    "deletable": false,
    "id": "f67ce9b3",
    "outputId": "673c12d9-7d7e-4ae0-9812-c622c89dd244"
   },
   "outputs": [
    {
     "data": {
      "text/plain": [
       "array(['покупка жилья', 'приобретение автомобиля',\n",
       "       'дополнительное образование', 'сыграть свадьбу',\n",
       "       'операции с жильем', 'образование', 'на проведение свадьбы',\n",
       "       'покупка жилья для семьи', 'покупка недвижимости',\n",
       "       'покупка коммерческой недвижимости', 'покупка жилой недвижимости',\n",
       "       'строительство собственной недвижимости', 'недвижимость',\n",
       "       'строительство недвижимости', 'на покупку подержанного автомобиля',\n",
       "       'на покупку своего автомобиля',\n",
       "       'операции с коммерческой недвижимостью',\n",
       "       'строительство жилой недвижимости', 'жилье',\n",
       "       'операции со своей недвижимостью', 'автомобили',\n",
       "       'заняться образованием', 'сделка с подержанным автомобилем',\n",
       "       'получение образования', 'автомобиль', 'свадьба',\n",
       "       'получение дополнительного образования', 'покупка своего жилья',\n",
       "       'операции с недвижимостью', 'получение высшего образования',\n",
       "       'свой автомобиль', 'сделка с автомобилем',\n",
       "       'профильное образование', 'высшее образование',\n",
       "       'покупка жилья для сдачи', 'на покупку автомобиля', 'ремонт жилью',\n",
       "       'заняться высшим образованием'], dtype=object)"
      ]
     },
     "execution_count": 19,
     "metadata": {},
     "output_type": "execute_result"
    }
   ],
   "source": [
    "data['purpose'].unique()"
   ]
  },
  {
   "cell_type": "markdown",
   "id": "8ca12423",
   "metadata": {
    "deletable": false,
    "editable": false,
    "id": "85d0aef0"
   },
   "source": [
    "**Задание 18. Создайте функцию, которая на основании данных из столбца `purpose` сформирует новый столбец `purpose_category`, в который войдут следующие категории:**\n",
    "\n",
    "- `'операции с автомобилем'`,\n",
    "- `'операции с недвижимостью'`,\n",
    "- `'проведение свадьбы'`,\n",
    "- `'получение образования'`.\n",
    "\n",
    "**Например, если в столбце `purpose` находится подстрока `'на покупку автомобиля'`, то в столбце `purpose_category` должна появиться строка `'операции с автомобилем'`.**\n",
    "\n",
    "**Используйте собственную функцию с именем `categorize_purpose()` и метод `apply()`. Изучите данные в столбце `purpose` и определите, какие подстроки помогут вам правильно определить категорию.**"
   ]
  },
  {
   "cell_type": "code",
   "execution_count": 20,
   "id": "424ccba8",
   "metadata": {
    "deletable": false,
    "id": "e149fab4"
   },
   "outputs": [],
   "source": [
    "def categorize_purpose(row):\n",
    "    try:\n",
    "        if 'автом' in row:\n",
    "            return 'операции с автомобилем'\n",
    "        elif 'жил' in row or 'недвиж' in row:\n",
    "            return 'операции с недвижимостью'\n",
    "        elif 'свад' in row:\n",
    "            return 'проведение свадьбы'\n",
    "        elif 'образов' in row:\n",
    "            return 'получение образования'\n",
    "    except:\n",
    "        return 'нет категории'"
   ]
  },
  {
   "cell_type": "code",
   "execution_count": 21,
   "id": "1d5804a3",
   "metadata": {
    "deletable": false,
    "id": "bf36e69b"
   },
   "outputs": [],
   "source": [
    "data['purpose_category'] = data['purpose'].apply(categorize_purpose)"
   ]
  },
  {
   "cell_type": "markdown",
   "id": "8d011298",
   "metadata": {
    "deletable": false,
    "editable": false,
    "id": "09b242bf"
   },
   "source": [
    "### Шаг 3. Исследуйте данные и ответьте на вопросы"
   ]
  },
  {
   "cell_type": "markdown",
   "id": "6bfbf649",
   "metadata": {
    "deletable": false,
    "editable": false,
    "id": "c5d66278"
   },
   "source": [
    "#### 3.1 Есть ли зависимость между количеством детей и возвратом кредита в срок?"
   ]
  },
  {
   "cell_type": "markdown",
   "id": "8a30398e",
   "metadata": {},
   "source": [
    "Сгруппируем данные по категории  `children` и подготовим субданные по столбцу `debt` в виде общего количества обращений и количества просроченных кредитов. Для подсчёта  количества просроченных кредитов применим обычное суммирование т.к. данные столбца `debt` принимают значения либо $0$ для вовремя возвращенных кредитов либо $1$ для просроченных"
   ]
  },
  {
   "cell_type": "code",
   "execution_count": 22,
   "id": "076528ac",
   "metadata": {
    "deletable": false,
    "id": "2cacfc4a"
   },
   "outputs": [],
   "source": [
    "data_grouped_by_baby = data.groupby('children').agg({'debt': ['count', 'sum']})"
   ]
  },
  {
   "cell_type": "markdown",
   "id": "d33d7168",
   "metadata": {},
   "source": [
    "Далее просто подсчитаем процентное соотношение. Поскольку здесь возникает опасная возможность деления на ноль (в *jupyter notebook* разное случается...) применим конструкцию **try - except**"
   ]
  },
  {
   "cell_type": "code",
   "execution_count": 23,
   "id": "9175e292",
   "metadata": {},
   "outputs": [
    {
     "name": "stdout",
     "output_type": "stream",
     "text": [
      "Проехали...\n",
      "Идем дальше\n"
     ]
    }
   ],
   "source": [
    "try:\n",
    "    debt_percentage_by_baby = data_grouped_by_baby['debt']['sum'] / data_grouped_by_baby['debt']['count']\n",
    "except:\n",
    "    print('Что-то поделилось на ноль')\n",
    "else:\n",
    "    print('Проехали...')\n",
    "finally:\n",
    "    print('Идем дальше')"
   ]
  },
  {
   "cell_type": "markdown",
   "id": "fb87454d",
   "metadata": {},
   "source": [
    "Поскольку табличная библиотека сходу не нашлась, сделаем вывод подручными способами"
   ]
  },
  {
   "cell_type": "code",
   "execution_count": 24,
   "id": "9793b9cb",
   "metadata": {
    "scrolled": true
   },
   "outputs": [
    {
     "name": "stdout",
     "output_type": "stream",
     "text": [
      "\n",
      "\u001b[1mПроцент задолженных кредитов домохозяйств\n",
      "    в зависимости от количества детей\n",
      "\u001b[0m\n",
      "\u001b[1mКоличество детей  Процент \"просрочки\"\u001b[0m\n",
      "        0                7.5%\n",
      "        1                9.2%\n",
      "        2                9.5%\n",
      "        3                8.2%\n",
      "        4                9.8%\n",
      "        5                0.0%\n"
     ]
    }
   ],
   "source": [
    "print('\\n\\033[1m'+'Процент задолженных кредитов домохозяйств\\n    в зависимости от количества детей\\n'+'\\033[0m')\n",
    "print('\\033[1m'+'Количество детей  Процент \\\"просрочки\\\"'+'\\033[0m')\n",
    "\n",
    "for i in debt_percentage_by_baby.index:\n",
    "    print(f'        {i}                {debt_percentage_by_baby[i]:.1%}')"
   ]
  },
  {
   "cell_type": "markdown",
   "id": "6b775148",
   "metadata": {},
   "source": [
    "Или так:"
   ]
  },
  {
   "cell_type": "code",
   "execution_count": 25,
   "id": "25064d26",
   "metadata": {},
   "outputs": [
    {
     "data": {
      "text/html": [
       "<div>\n",
       "<style scoped>\n",
       "    .dataframe tbody tr th:only-of-type {\n",
       "        vertical-align: middle;\n",
       "    }\n",
       "\n",
       "    .dataframe tbody tr th {\n",
       "        vertical-align: top;\n",
       "    }\n",
       "\n",
       "    .dataframe thead th {\n",
       "        text-align: right;\n",
       "    }\n",
       "</style>\n",
       "<table border=\"1\" class=\"dataframe\">\n",
       "  <thead>\n",
       "    <tr style=\"text-align: right;\">\n",
       "      <th></th>\n",
       "      <th>Процент \"просрочки\"</th>\n",
       "    </tr>\n",
       "    <tr>\n",
       "      <th>children</th>\n",
       "      <th></th>\n",
       "    </tr>\n",
       "  </thead>\n",
       "  <tbody>\n",
       "    <tr>\n",
       "      <th>0</th>\n",
       "      <td>0.075438</td>\n",
       "    </tr>\n",
       "    <tr>\n",
       "      <th>1</th>\n",
       "      <td>0.092346</td>\n",
       "    </tr>\n",
       "    <tr>\n",
       "      <th>2</th>\n",
       "      <td>0.094542</td>\n",
       "    </tr>\n",
       "    <tr>\n",
       "      <th>3</th>\n",
       "      <td>0.081818</td>\n",
       "    </tr>\n",
       "    <tr>\n",
       "      <th>4</th>\n",
       "      <td>0.097561</td>\n",
       "    </tr>\n",
       "    <tr>\n",
       "      <th>5</th>\n",
       "      <td>0.000000</td>\n",
       "    </tr>\n",
       "  </tbody>\n",
       "</table>\n",
       "</div>"
      ],
      "text/plain": [
       "          Процент \"просрочки\"\n",
       "children                     \n",
       "0                    0.075438\n",
       "1                    0.092346\n",
       "2                    0.094542\n",
       "3                    0.081818\n",
       "4                    0.097561\n",
       "5                    0.000000"
      ]
     },
     "execution_count": 25,
     "metadata": {},
     "output_type": "execute_result"
    }
   ],
   "source": [
    "children = pd.DataFrame(debt_percentage_by_baby)\n",
    "children.columns = ['Процент \"просрочки\"']\n",
    "children"
   ]
  },
  {
   "cell_type": "markdown",
   "id": "8d93e793",
   "metadata": {},
   "source": [
    "Тут сразу отмечаем непонятные скачки процентных значений *\\\"просрочки\\\"* в нижней части \"таблицы\""
   ]
  },
  {
   "cell_type": "markdown",
   "id": "1c9ab35a",
   "metadata": {},
   "source": [
    "Для лучшей наглядности представим результат в графическом виде. Для этого импортируем необходимые библиотеки, а именно `seaborn` и `matplotlib.pyplot` как популярную визуализацию пакета `matplotlib`"
   ]
  },
  {
   "cell_type": "code",
   "execution_count": 26,
   "id": "8df5c5c7",
   "metadata": {},
   "outputs": [],
   "source": [
    "import seaborn as sns\n",
    "import matplotlib.pyplot as plt"
   ]
  },
  {
   "cell_type": "markdown",
   "id": "17f9b526",
   "metadata": {},
   "source": [
    "Построим график зависимости между количеством детей в домохозяйстве и возвратом кредита в срок"
   ]
  },
  {
   "cell_type": "code",
   "execution_count": 27,
   "id": "2bd8c8bf",
   "metadata": {},
   "outputs": [
    {
     "data": {
      "image/png": "[encoded data removed]",
      "text/plain": [
       "<Figure size 640x480 with 1 Axes>"
      ]
     },
     "metadata": {},
     "output_type": "display_data"
    }
   ],
   "source": [
    "import numpy as np\n",
    "\n",
    "def show_values(axs, orient=\"v\", space=.01):\n",
    "    def _single(ax):\n",
    "        if orient == \"v\":\n",
    "            for p in ax.patches:\n",
    "                _x = p.get_x() + p.get_width() / 2\n",
    "                _y = p.get_y() + p.get_height() + (p.get_height()*0.01)\n",
    "                value = '{:.1f}'.format(p.get_height())\n",
    "                ax.text(_x, _y, value, ha=\"center\") \n",
    "        elif orient == \"h\":\n",
    "            for p in ax.patches:\n",
    "                _x = p.get_x() + p.get_width() + float(space)\n",
    "                _y = p.get_y() + p.get_height() - (p.get_height()*0.5)\n",
    "                value = '{:.1f}'.format(p.get_width())\n",
    "                ax.text(_x, _y, value, ha=\"left\")\n",
    "                \n",
    "    if isinstance(axs, np.ndarray):\n",
    "        for idx, ax in np.ndenumerate(axs):\n",
    "            _single(ax)\n",
    "    else:\n",
    "        _single(axs)\n",
    "\n",
    "\n",
    "ax_baby = sns.barplot(x=debt_percentage_by_baby.index,\\\n",
    "                      y=debt_percentage_by_baby*100,\\\n",
    "                      color='skyblue')\n",
    "\n",
    "show_values(ax_baby, orient=\"v\")\n",
    "\n",
    "ax_baby.set(xlabel='Количество детей в домохозяйстве',\\\n",
    "            ylabel='Процент \\\"просрочки\\\", %',\\\n",
    "            title='Зависимость между количеством детей в домохозяйстве\\nи возвратом кредита в срок')\n",
    "plt.show(ax_baby)"
   ]
  },
  {
   "cell_type": "markdown",
   "id": "19f75027",
   "metadata": {},
   "source": [
    "График наглядно показывает аномальное поведение *\\\"просрочки\\\"* на уровнях *\\\"детей\\\"* выше 3-х. Можно догадаться, что домохозяйства уже имеющие 4-х детей вряд ли будут принципиально отличаться от таковых с 5-ю. Логично предположить (что так и есть, если заглянуть внутрь `data_grouped_by_baby['debt']['count']`) что домохозяйства, обращающиеся за кредитом и имеющие 4-х и более детей достаточно редки и могут быть представлены статистически недостаточным количеством данных. Следующее действие - дать количественную оценку понятию \"статистически недостаточное количество данных\". Для этого сделаем небольшой экскурс в статистику достоверности выборки."
   ]
  },
  {
   "cell_type": "markdown",
   "id": "8b477ea1",
   "metadata": {},
   "source": [
    "Оценить достоверность выборки можно рассчитав её Ошибку (Дельту). Чтобы не усложнять и перегружать конкретно *этот* проект вычислениями рассчитаем Дельту например по формуле $\\Delta=Z\\sqrt[]{\\frac{pq}{n}}$. Здесь\n",
    "- $n$ – объем выборки,\n",
    "- $Z$ – коэффициент, зависящий от выбранного исследователем доверительного уровня,\n",
    "- $p$ – доля респондентов с наличием исследуемого признака,\n",
    "- $q = 1 – p$ – доля респондентов, у которых исследуемый признак отсутствует,\n",
    "- $\\Delta$ – предельная ошибка выборки.\n",
    "\n",
    "В большинстве не *Business Critical* случаев берется доверительный уровень равный 95%. В этом случае коэффициент $Z$ равен $1.96$. Значения $p$ и $q$ считаем заранее неизвестными (чтобы не возиться с ненужными для *данного* учебного проекта дополнительными вычислениями) и примем за $0.5$, что дает возможность оценить Дельту \"сверху\". Также, как и в большинстве оценок, считаем пороговым значением Дельты: $\\Delta=4\\%$.\n",
    "\n",
    "В таких предположениях вся математика сводится к простому выражению: $\\Delta_s=1.96\\sqrt[]{\\frac{0.25}{n_s}}$, где:\n",
    "- $\\Delta_s$ - интересующая нас Дельта для выборки\n",
    "- $n_s$ - объём этой выборки"
   ]
  },
  {
   "cell_type": "markdown",
   "id": "782b037a",
   "metadata": {},
   "source": [
    "Для того, чтобы вычислять квадратные корни из чисел потребуется импортировать библиотеку `math`. В этой библиотеке квадратный корень берётся простой функцией `sqrt()`"
   ]
  },
  {
   "cell_type": "code",
   "execution_count": 28,
   "id": "0bce31f4",
   "metadata": {},
   "outputs": [
    {
     "data": {
      "image/png": "[encoded data removed]",
      "text/plain": [
       "<Figure size 640x480 with 1 Axes>"
      ]
     },
     "metadata": {},
     "output_type": "display_data"
    }
   ],
   "source": [
    "import math\n",
    "\n",
    "baby_tmp = pd.Series(data_grouped_by_baby['debt']['count'])\n",
    "\n",
    "try:\n",
    "    for i in range(len(baby_tmp)):\n",
    "        baby_tmp.loc[i] = 100 * 1.96 * math.sqrt(0.5 * 0.5 / baby_tmp.loc[i])\n",
    "except:\n",
    "    print('Что-то поделилось на ноль')\n",
    "\n",
    "ax_baby_delta = sns.barplot(x=baby_tmp.index,\\\n",
    "                            y=baby_tmp,\\\n",
    "                            color='lightgreen')\n",
    "\n",
    "plt.axhline(y=4, color='black', linestyle='dashed', linewidth=1)\n",
    "show_values(ax_baby_delta)\n",
    "\n",
    "ax_baby_delta.set(xlabel='Количество детей в домохозяйстве',\\\n",
    "                  ylabel='Ошибка выборки, %',\\\n",
    "                  title='Ошибка выборки в группах по количеству детей')\n",
    "plt.show(ax_baby_delta)"
   ]
  },
  {
   "cell_type": "markdown",
   "id": "79c09295",
   "metadata": {},
   "source": [
    "Вспомним, что мы приняли пороговым значением Ошибки выборки: $\\Delta=4\\%$ (пунктирная линия на графике). Поскольку это максимальное из возможных расчётное значение, а домохозяйства с 3-мя детьми вовсе не редкость и находятся на грани достоверности, возьмём и их в анализ, однако таковые домохозяйства с 4-мя и более детьми должны быть исключены из рассмотрения ввиду недостоверности их выборок."
   ]
  },
  {
   "cell_type": "markdown",
   "id": "775c5fa1",
   "metadata": {
    "deletable": false,
    "id": "3a6b99ec"
   },
   "source": [
    "**Вывод:** "
   ]
  },
  {
   "cell_type": "markdown",
   "id": "1a60c7f9",
   "metadata": {},
   "source": [
    "<div class=\"alert alert-info\">Анализ достоверности выборок для количества детей 4 и 5 показывает их непригодность для анализа. Минимумом количества записей является примерно 500-600, в данном случае такой минимум является обязательным условием.\n",
    "\n",
    "Выборка для трехдетных домохозяйств находится на грани достоверности и для этой категории лучше получить дополнительный набор данных до порога в около 500-600 записей.\n",
    "\n",
    "С учетом вышеприведенных ограничений и графика <i>\"Зависимость между количеством детей в домохозяйстве и возвратом кредита в срок\"</i> можно, с определённой долей осторожности, утверждать, что домохозяйства в данной категории <i>\"количество детей\"</i> распределяются по финансовой дисциплине в прядке ухудшения следующим образом:\n",
    "    \n",
    "- Количество детей: 0\n",
    "- Количество детей: 3<sup>*</sup>\n",
    "- Количество детей: 1\n",
    "- Количество детей: 2\n",
    "\n",
    "<sup>*</sup> Тем не менее, второе место группы из 3-х детей выглядит в списке несколько негармонично, должно быть подтверждено более объёмной выборкой по категории и на данный момент предполагается не включать в итоговые выводы.\n",
    "Childfree forever!</div>"
   ]
  },
  {
   "cell_type": "markdown",
   "id": "9fde8995",
   "metadata": {
    "deletable": false,
    "editable": false,
    "id": "97be82ca"
   },
   "source": [
    "#### 3.2 Есть ли зависимость между семейным положением и возвратом кредита в срок?"
   ]
  },
  {
   "cell_type": "markdown",
   "id": "213bae30",
   "metadata": {},
   "source": [
    "Сгруппируем данные по категории  `family_status` и подготовим субданные по столбцу `debt` в виде общего количества обращений и количества просроченных кредитов. Для подсчёта количества просроченных кредитов применим обычное суммирование т.к. данные столбца `debt` принимают значения либо $0$ для вовремя возвращенных кредитов либо $1$ для просроченных"
   ]
  },
  {
   "cell_type": "code",
   "execution_count": 29,
   "id": "aa71467f",
   "metadata": {
    "deletable": false,
    "id": "dc3f7ee8"
   },
   "outputs": [],
   "source": [
    "data_grouped_by_famstat = data.groupby('family_status').agg({'debt': ['count', 'sum']})"
   ]
  },
  {
   "cell_type": "markdown",
   "id": "d7648bab",
   "metadata": {},
   "source": [
    "Далее просто подсчитаем процентное соотношение. Та же конструкция **try - except**"
   ]
  },
  {
   "cell_type": "code",
   "execution_count": 30,
   "id": "f6ce1ec2",
   "metadata": {},
   "outputs": [
    {
     "name": "stdout",
     "output_type": "stream",
     "text": [
      "Проехали...\n",
      "Идем дальше\n"
     ]
    }
   ],
   "source": [
    "try:\n",
    "    debt_percentage_by_famstat = data_grouped_by_famstat['debt']['sum'] / data_grouped_by_famstat['debt']['count']\n",
    "except:\n",
    "    print('Что-то поделилось на ноль')\n",
    "else:\n",
    "    print('Проехали...')\n",
    "finally:\n",
    "    print('Идем дальше')"
   ]
  },
  {
   "cell_type": "markdown",
   "id": "66bcbce2",
   "metadata": {},
   "source": [
    "Вывод \"табличного\" результата"
   ]
  },
  {
   "cell_type": "code",
   "execution_count": 31,
   "id": "4d7dceb8",
   "metadata": {
    "scrolled": false
   },
   "outputs": [
    {
     "name": "stdout",
     "output_type": "stream",
     "text": [
      "\n",
      "\u001b[1m  Процент задолженных кредитов домохозяйств\n",
      "      в зависимости от семейного статуса\n",
      "\u001b[0m\n",
      "\u001b[1mПроцент \"просрочки\"         Семейный статус\u001b[0m\n",
      "       9.8%\t\t    Не женат / не замужем\n",
      "       9.3%\t\t    гражданский брак\n",
      "       7.6%\t\t    женат / замужем\n",
      "       7.1%\t\t    в разводе\n",
      "       6.6%\t\t    вдовец / вдова\n"
     ]
    }
   ],
   "source": [
    "print('\\n\\033[1m'+'  Процент задолженных кредитов домохозяйств\\n      в зависимости от семейного статуса\\n'+'\\033[0m')\n",
    "print('\\033[1m'+'Процент \\\"просрочки\\\"         Семейный статус'+'\\033[0m')\n",
    "\n",
    "for i in debt_percentage_by_famstat.sort_values(ascending=False).index:\n",
    "    print(f'       {debt_percentage_by_famstat.sort_values(ascending=False)[i]:.1%}\\t\\t    {i}')"
   ]
  },
  {
   "cell_type": "markdown",
   "id": "565353c7",
   "metadata": {},
   "source": [
    "Визуализация. Построим график зависимости между семейным статусом домохозяйства и возвратом кредита в срок"
   ]
  },
  {
   "cell_type": "code",
   "execution_count": 32,
   "id": "bc98a197",
   "metadata": {
    "scrolled": false
   },
   "outputs": [
    {
     "data": {
      "image/png": "[encoded data removed]",
      "text/plain": [
       "<Figure size 640x480 with 1 Axes>"
      ]
     },
     "metadata": {},
     "output_type": "display_data"
    }
   ],
   "source": [
    "ax_by_famstat = sns.barplot(x=debt_percentage_by_famstat.sort_values(ascending=False)*100,\\\n",
    "                            y=debt_percentage_by_famstat.sort_values(ascending=False).index,\\\n",
    "                            color='skyblue')\n",
    "\n",
    "show_values(ax_by_famstat, orient=\"h\")\n",
    "\n",
    "ax_by_famstat.set(xlabel='Процент \\\"просрочки\\\", %',\\\n",
    "                  ylabel='Семейный статус домохозяйства', \\\n",
    "                  title='Зависимость между Семейным статусом домохозяйства\\nи возвратом кредита в срок')\n",
    "plt.show(ax_by_famstat)"
   ]
  },
  {
   "cell_type": "markdown",
   "id": "4f9d0386",
   "metadata": {},
   "source": [
    "Результат распределён по категориям достаточно равномерно, но, на всякий случай, посмотрим достоверности категорий"
   ]
  },
  {
   "cell_type": "code",
   "execution_count": 33,
   "id": "2447a0ec",
   "metadata": {},
   "outputs": [
    {
     "data": {
      "image/png": "[encoded data removed]",
      "text/plain": [
       "<Figure size 640x480 with 1 Axes>"
      ]
     },
     "metadata": {},
     "output_type": "display_data"
    }
   ],
   "source": [
    "famstat_tmp = pd.Series(data_grouped_by_famstat['debt']['count'])\n",
    "\n",
    "try:\n",
    "    for i in range(len(famstat_tmp)):\n",
    "        famstat_tmp[i] = 100 * 1.96 * math.sqrt(0.5 * 0.5 / famstat_tmp[i])\n",
    "except:\n",
    "    print('Что-то поделилось на ноль')\n",
    "\n",
    "ax_famstat_delta = sns.barplot(x=famstat_tmp,\\\n",
    "                               y=famstat_tmp.index,\\\n",
    "                               color='lightgreen')\n",
    "\n",
    "show_values(ax_famstat_delta, orient=\"h\")\n",
    "\n",
    "ax_famstat_delta.set(xlabel='Ошибка выборки, %',\\\n",
    "                     ylabel='Семейный статус домохозяйства',\\\n",
    "                     title='Ошибка выборки в группах по cемейному статусу домохозяйства')\n",
    "plt.show(ax_famstat_delta)"
   ]
  },
  {
   "cell_type": "markdown",
   "id": "46b63ee1",
   "metadata": {},
   "source": [
    "Все достоверности находятся ниже порогового значения Ошибки выборки $\\Delta=4\\%$. Можно приступать к выводам по всем выборкам"
   ]
  },
  {
   "cell_type": "markdown",
   "id": "b46799df",
   "metadata": {
    "deletable": false,
    "id": "1cef7837"
   },
   "source": [
    "**Вывод:** "
   ]
  },
  {
   "cell_type": "markdown",
   "id": "ec961beb",
   "metadata": {},
   "source": [
    "<div class=\"alert alert-info\">Исходя из визуального анализа графика <i>\"Зависимость между Семейным статусом домохозяйства и возвратом кредита в срок\"</i> очевидным образом можно прийти к выводу о том, что люди находящиеся/бывавшие в браке являются более надежными заемщиками. Тем не менее, наиболее кредитоспособной категорией в этом исследовании оказалась <i>\"вдовец / вдова\"</i>\n",
    "\n",
    "Распределение категорий в порядке убывания финансовой дисциплины:\n",
    "- Вдовец / вдова\n",
    "- В разводе\n",
    "- Женат / замужем\n",
    "- Гражданский брак\n",
    "- Не женат / не замужем</div>"
   ]
  },
  {
   "cell_type": "markdown",
   "id": "4d8eb661",
   "metadata": {
    "deletable": false,
    "editable": false,
    "id": "1e8b2fca"
   },
   "source": [
    "#### 3.3 Есть ли зависимость между уровнем дохода и возвратом кредита в срок?"
   ]
  },
  {
   "cell_type": "markdown",
   "id": "0d8d23b2",
   "metadata": {},
   "source": [
    "Сгруппируем данные по категории `total_income_category` и подготовим субданные по столбцу `debt` в виде общего количества обращений и количества просроченных кредитов. Для подсчёта количества просроченных кредитов применим обычное суммирование т.к. данные столбца `debt` принимают значения либо $0$ для вовремя возвращенных кредитов либо $1$ для просроченных"
   ]
  },
  {
   "cell_type": "code",
   "execution_count": 34,
   "id": "0a926929",
   "metadata": {
    "deletable": false,
    "id": "cd7e3720"
   },
   "outputs": [],
   "source": [
    "data_grouped_by_income = data.groupby('total_income_category').agg({'debt': ['count', 'sum']})"
   ]
  },
  {
   "cell_type": "markdown",
   "id": "9f9a9224",
   "metadata": {},
   "source": [
    "Далее просто подсчитаем процентное соотношение. Таже конструкция **try - except**"
   ]
  },
  {
   "cell_type": "code",
   "execution_count": 35,
   "id": "932845cb",
   "metadata": {},
   "outputs": [
    {
     "name": "stdout",
     "output_type": "stream",
     "text": [
      "Проехали...\n",
      "Идем дальше\n"
     ]
    }
   ],
   "source": [
    "try:\n",
    "    debt_percentage_by_income = data_grouped_by_income['debt']['sum'] / data_grouped_by_income['debt']['count']\n",
    "except:\n",
    "    print('Что-то поделилось на ноль')\n",
    "else:\n",
    "    print('Проехали...')\n",
    "finally:\n",
    "    print('Идем дальше')"
   ]
  },
  {
   "cell_type": "markdown",
   "id": "b5a176d0",
   "metadata": {},
   "source": [
    "Вывод \"табличного\" результата"
   ]
  },
  {
   "cell_type": "code",
   "execution_count": 36,
   "id": "c16b719a",
   "metadata": {
    "scrolled": true
   },
   "outputs": [
    {
     "name": "stdout",
     "output_type": "stream",
     "text": [
      "\n",
      "\u001b[1m  Процент задолженных кредитов домохозяйств\n",
      "      в зависимости от уровня дохода\n",
      "\u001b[0m\n",
      "\u001b[1mУровень дохода         Процент \"просрочки\"\u001b[0m\n",
      "       A\t\t      8.0%\n",
      "       B\t\t      7.1%\n",
      "       C\t\t      8.5%\n",
      "       D\t\t      6.0%\n",
      "       E\t\t      9.1%\n"
     ]
    }
   ],
   "source": [
    "print('\\n\\033[1m'+'  Процент задолженных кредитов домохозяйств\\n      в зависимости от уровня дохода\\n'+'\\033[0m')\n",
    "print('\\033[1m'+'Уровень дохода         Процент \\\"просрочки\\\"'+'\\033[0m')\n",
    "\n",
    "for i in debt_percentage_by_income.index:\n",
    "    print(f'       {i}\\t\\t      {debt_percentage_by_income[i]:.1%}')"
   ]
  },
  {
   "cell_type": "markdown",
   "id": "cd36d87a",
   "metadata": {},
   "source": [
    "Как и в предыдущем исследовании результат распределён по категориям достаточно равномерно, тем не менее, не совсем логично с точки зрения \"здравого смысла\". Например, наиболее обеспеченная категория `'A'` по какой-то причине не склонна погашать кредиты более своевременно по сравнению со совей предшественницей. *\\\"Я психолог... о вот наука!\\\"*, но лучше посмотреть достоверности категорий. Однако визуализируем сперва результаты *\\\"Зависимости между уровнем дохода домохозяйства и возвратом кредита в срок\\\"*."
   ]
  },
  {
   "cell_type": "code",
   "execution_count": 37,
   "id": "7096d526",
   "metadata": {},
   "outputs": [
    {
     "data": {
      "image/png": "[encoded data removed]",
      "text/plain": [
       "<Figure size 640x480 with 1 Axes>"
      ]
     },
     "metadata": {},
     "output_type": "display_data"
    }
   ],
   "source": [
    "ax_by_income = sns.barplot(x=debt_percentage_by_income.index,\\\n",
    "                           y=debt_percentage_by_income*100,\\\n",
    "                           color='skyblue')\n",
    "\n",
    "show_values(ax_by_income, orient=\"v\")\n",
    "\n",
    "ax_by_income.set(xlabel='Уровень дохода домохозяйства',\\\n",
    "                 ylabel='Процент \\\"просрочки\\\", %',\\\n",
    "                 title='Зависимость между уровнем дохода домохозяйства\\nи возвратом кредита в срок')\n",
    "plt.show(ax_by_income)"
   ]
  },
  {
   "cell_type": "markdown",
   "id": "a2a087e9",
   "metadata": {},
   "source": [
    "Достоверности категорий"
   ]
  },
  {
   "cell_type": "code",
   "execution_count": 38,
   "id": "615774a1",
   "metadata": {},
   "outputs": [
    {
     "data": {
      "image/png": "[encoded data removed]",
      "text/plain": [
       "<Figure size 640x480 with 1 Axes>"
      ]
     },
     "metadata": {},
     "output_type": "display_data"
    }
   ],
   "source": [
    "income_tmp = pd.Series(data_grouped_by_income['debt']['count'])\n",
    "\n",
    "try:\n",
    "    for i in range(len(income_tmp)):\n",
    "        income_tmp[i] = 100 * 1.96 * math.sqrt(0.5 * 0.5 / income_tmp[i])\n",
    "except:\n",
    "    print('Что-то поделилось на ноль')\n",
    "    \n",
    "ax_income_delta = sns.barplot(x=income_tmp.index,\\\n",
    "                              y=income_tmp,\\\n",
    "                              color='lightgreen')\n",
    "\n",
    "plt.axhline(y=4, color='black', linestyle='dashed', linewidth=1)\n",
    "show_values(ax_income_delta)\n",
    "\n",
    "ax_income_delta.set(xlabel='Уровень дохода домохозяйства',\\\n",
    "                    ylabel='Ошибка выборки, %',\\\n",
    "                    title='Ошибка выборки в группах по уровеню дохода домохозяйства')\n",
    "plt.show(ax_income_delta)"
   ]
  },
  {
   "cell_type": "markdown",
   "id": "9cc5a137",
   "metadata": {},
   "source": [
    "А вот и \"психология\". Категория `'A'`, как впрочем и `'E'` содержит недостаточно дынных (пунктирная линия - $\\Delta=4\\%$). Объяснение найдется всему. В данном случае очевидно, что самые малообеспеченные и высокообеспеченные категории домохозяйств не склонны брать перечисленные в исходных данных категории кредитов. `'А'` и `'E'` из анализа исключаем. Категория `'D'` на грани достоверности. Отметим этот факт."
   ]
  },
  {
   "cell_type": "markdown",
   "id": "3e01302c",
   "metadata": {
    "deletable": false,
    "id": "e8593def"
   },
   "source": [
    "**Вывод:** "
   ]
  },
  {
   "cell_type": "markdown",
   "id": "d3ca1ee0",
   "metadata": {},
   "source": [
    "<div class=\"alert alert-info\"> \n",
    "Анализ достоверности доступных выборок погашения кредита в срок по категориям уровней дохода домохозяйства показывает недостаточность данных для категорий:\n",
    "    \n",
    "- 'A': 1,000,001 и выше \n",
    "    \n",
    "- 'E': 0–30,000\n",
    "    \n",
    "Минимумом количества записей в выборке для анализа по-прежнему  считаем число около 500-600. На данный момент выводы относительно этих категорий сделать не представляется правдоподобным.\n",
    "\n",
    "Категория 'D' (30,001–50,000) находится на грани достоверности  и для её достоверного анализа нужно увеличить количество записей в категории 'D' примерно до 500-600. \n",
    "\n",
    "С учетом вышеприведенных ограничений и графика <i>\"Зависимость между уровнем дохода домохозяйства и возвратом кредита в срок\"</i> можно, с определённой долей осторожности, утверждать, что в порядке уменьшения финансовой дисциплины категории <i>\"уровня дохода\"</i> распределяются так (т.е. чем больше у человека денег, тем легче ему обслуживать долг по кредиту):\n",
    "\n",
    "- 'D' (30,001–50,000)<sup>*</sup>\n",
    "- 'B' (200,001–1,000,000)\n",
    "- 'C' (50,001–200,000) \n",
    "\n",
    "<sup>*</sup> Тем не менее, лидирующее положение группы 'D' должно быть подтверждено более объёмной выборкой по категории, на данный момент находится под сомнением и предполагается не включать в итоговые выводы.</div>"
   ]
  },
  {
   "cell_type": "markdown",
   "id": "eb415765",
   "metadata": {
    "deletable": false,
    "editable": false,
    "id": "99ecbd1f"
   },
   "source": [
    "#### 3.4 Как разные цели кредита влияют на его возврат в срок?"
   ]
  },
  {
   "cell_type": "markdown",
   "id": "85fa33ff",
   "metadata": {},
   "source": [
    "Here we go again... Сгруппируем данные по категории `purpose_category` и подготовим субданные по столбцу `debt` в виде общего количества обращений и количества просроченных кредитов. Для подсчёта количества просроченных кредитов применим обычное суммирование т.к. данные столбца `debt` принимают значения либо $0$ для вовремя возвращенных кредитов либо $1$ для просроченных"
   ]
  },
  {
   "cell_type": "code",
   "execution_count": 39,
   "id": "9a21e57f",
   "metadata": {
    "deletable": false,
    "id": "2b687290"
   },
   "outputs": [],
   "source": [
    "data_grouped_by_purpose = data.groupby('purpose_category').agg({'debt': ['count', 'sum']})"
   ]
  },
  {
   "cell_type": "markdown",
   "id": "bc1e7411",
   "metadata": {},
   "source": [
    "Далее просто подсчитаем процентное соотношение. Таже конструкция **try - except**"
   ]
  },
  {
   "cell_type": "code",
   "execution_count": 40,
   "id": "dc586b89",
   "metadata": {},
   "outputs": [
    {
     "name": "stdout",
     "output_type": "stream",
     "text": [
      "Проехали...\n",
      "Идем дальше\n"
     ]
    }
   ],
   "source": [
    "try:\n",
    "    debt_percentage_by_purpose = data_grouped_by_purpose['debt']['sum'] / data_grouped_by_purpose['debt']['count']\n",
    "except:\n",
    "    print('Что-то поделилось на ноль')\n",
    "else:\n",
    "    print('Проехали...')\n",
    "finally:\n",
    "    print('Идем дальше')"
   ]
  },
  {
   "cell_type": "markdown",
   "id": "a4302ea3",
   "metadata": {},
   "source": [
    "Вывод \"табличного\" результата"
   ]
  },
  {
   "cell_type": "code",
   "execution_count": 41,
   "id": "09751436",
   "metadata": {
    "scrolled": true
   },
   "outputs": [
    {
     "name": "stdout",
     "output_type": "stream",
     "text": [
      "\n",
      "\u001b[1m  Процент задолженных кредитов домохозяйств\n",
      "      в зависимости от цели кредита\n",
      "\u001b[0m\n",
      "\u001b[1mПроцент \"просрочки\"\tЦель кредита\u001b[0m\n",
      "\t9.3%\t\tоперации с автомобилем\n",
      "\t9.3%\t\tполучение образования\n",
      "\t7.9%\t\tпроведение свадьбы\n",
      "\t7.3%\t\tоперации с недвижимостью\n"
     ]
    }
   ],
   "source": [
    "print('\\n\\033[1m'+'  Процент задолженных кредитов домохозяйств\\n      в зависимости от цели кредита\\n'+'\\033[0m')\n",
    "print('\\033[1m'+'Процент \\\"просрочки\\\"\\tЦель кредита'+'\\033[0m')\n",
    "\n",
    "for i in debt_percentage_by_purpose.sort_values(ascending=False).index:\n",
    "    print(f'\\t{debt_percentage_by_purpose.sort_values(ascending=False)[i]:.1%}\\t\\t{i}')"
   ]
  },
  {
   "cell_type": "markdown",
   "id": "256c6bb9",
   "metadata": {},
   "source": [
    "Особых вопросов к результату пока нет. Визуализация. Построим график зависимости между целью кредита и возвратом кредита в срок"
   ]
  },
  {
   "cell_type": "code",
   "execution_count": 42,
   "id": "2f070cd2",
   "metadata": {},
   "outputs": [
    {
     "data": {
      "image/png": "[encoded data removed]",
      "text/plain": [
       "<Figure size 640x480 with 1 Axes>"
      ]
     },
     "metadata": {},
     "output_type": "display_data"
    }
   ],
   "source": [
    "ax_by_purpose = sns.barplot(x=debt_percentage_by_purpose.sort_values(ascending=False)*100,\\\n",
    "                           y=debt_percentage_by_purpose.sort_values(ascending=False).index,\\\n",
    "                           color='skyblue')\n",
    "\n",
    "show_values(ax_by_purpose, orient=\"h\")\n",
    "\n",
    "ax_by_purpose.set(xlabel='Процент \\\"просрочки\\\", %',\\\n",
    "                 ylabel='Цель кредита домохозяйства',\\\n",
    "                 title='Зависимость между целью кредита домохозяйства\\nи возвратом кредита в срок')\n",
    "plt.show(ax_by_purpose)"
   ]
  },
  {
   "cell_type": "markdown",
   "id": "c1c6f254",
   "metadata": {},
   "source": [
    "Результат распределён по категориям достаточно равномерно, но, на всякий случай, опять посмотрим достоверности категорий"
   ]
  },
  {
   "cell_type": "code",
   "execution_count": 43,
   "id": "4b977834",
   "metadata": {},
   "outputs": [
    {
     "data": {
      "image/png": "[encoded data removed]",
      "text/plain": [
       "<Figure size 640x480 with 1 Axes>"
      ]
     },
     "metadata": {},
     "output_type": "display_data"
    }
   ],
   "source": [
    "purpose_tmp = pd.Series(data_grouped_by_purpose['debt']['count'])\n",
    "\n",
    "try:\n",
    "    for i in range(len(purpose_tmp)):\n",
    "        purpose_tmp[i] = 100 * 1.96 * math.sqrt(0.5 * 0.5 / purpose_tmp[i])\n",
    "except:\n",
    "    print('Что-то поделилось на ноль')\n",
    "\n",
    "ax_purpose_delta = sns.barplot(x=purpose_tmp,\\\n",
    "                               y=purpose_tmp.index,\\\n",
    "                               color='lightgreen')\n",
    "\n",
    "show_values(ax_purpose_delta, orient=\"h\")\n",
    "\n",
    "ax_purpose_delta.set(xlabel='Ошибка выборки, %',\\\n",
    "                     ylabel='Уровень дохода домохозяйства',\\\n",
    "                     title='Ошибка выборки в группах по уровеню дохода домохозяйства')\n",
    "plt.show(ax_purpose_delta)"
   ]
  },
  {
   "cell_type": "markdown",
   "id": "ac7dd645",
   "metadata": {},
   "source": [
    "Все достоверности находятся ниже порогового значения Ошибки выборки $\\Delta=4\\%$. Можно приступать к выводам по всем выборкам"
   ]
  },
  {
   "cell_type": "markdown",
   "id": "54c81048",
   "metadata": {
    "deletable": false,
    "id": "b4bb2ce6"
   },
   "source": [
    "**Вывод:** "
   ]
  },
  {
   "cell_type": "markdown",
   "id": "06c9e0b2",
   "metadata": {},
   "source": [
    "<div class=\"alert alert-info\">Исходя из визуального анализа графика <i>\"Зависимость между целью кредита домохозяйства и возвратом кредита в срок\"</i> можно прийти к выводу о том, что жить без автомобиля, образования и супруга/супруги вполне можно, а вот без квартиры совсем никак. Таким образом, наиболее кредитоспособной категорией в этом исследовании оказалась <i>\"операции с недвижимостью\"</i>\n",
    "\n",
    "Распределение категорий в порядке убывания финансовой дисциплины:\n",
    "- операции с недвижимостью\n",
    "- проведение свадьбы\n",
    "- получение образования\n",
    "- операции с автомобилем</div>"
   ]
  },
  {
   "cell_type": "markdown",
   "id": "b9d6f72e",
   "metadata": {
    "deletable": false,
    "editable": false,
    "id": "09c3ac4c"
   },
   "source": [
    "#### 3.5 Приведите возможные причины появления пропусков в исходных данных."
   ]
  },
  {
   "cell_type": "markdown",
   "id": "28f2678c",
   "metadata": {
    "deletable": false,
    "id": "9da2ceda"
   },
   "source": [
    "*Ответ:* Если речь идёт о пропусках в исходных данных данного проекта, то совершенно очевидно, что они сделаны намеренно в учебных целях. Простое сравнение количества строк с пропусками в `'days_employed'` и `'total_income'` по операторам `'&'` и `'|'` показыввет что абсолютно все строки с пропусками имеют пропуск и в `'days_employed'` и в `'total_income'`. Вероятность произойти такому событию случайно стремится к нулю. Таким образом это подготовленный материал или системная ошибка. Отсюда мы приходим к возможным причинам появления пропусков вообще — *неверный ввод, ошибки вычислений, ошибки баз данных, намеренное искажение данных и т.п.*"
   ]
  },
  {
   "cell_type": "markdown",
   "id": "b0417284",
   "metadata": {
    "deletable": false,
    "editable": false,
    "id": "7b0487d6"
   },
   "source": [
    "#### 3.6 Объясните, почему заполнить пропуски медианным значением — лучшее решение для количественных переменных."
   ]
  },
  {
   "cell_type": "markdown",
   "id": "b927df72",
   "metadata": {
    "deletable": false,
    "id": "7ecf2b8e"
   },
   "source": [
    "*Ответ:* Как известно, Медиана — это точное среднее значение набора данных. Математическим свойством медианы является то, что сумма абсолютных (по модулю) отклонений от медианного значения дает минимально возможное значение, если сравнивать с отклонениями от любой другой величины. Таким образом Медианой удобно описывать набор данных со значительным перекосом в данных или когда данные имеют длинный хвост. Медиана определяет вес данных, который обычно имеет большое значение для более длинных хвостов, а также на Медиану гораздо меньше влияют выбросы данных.\n"
   ]
  },
  {
   "cell_type": "markdown",
   "id": "23c1fc29",
   "metadata": {},
   "source": [
    "#### 3.7 [Дополнительно] Где-то в описании проектной работы также указывалась цель разобраться влияет ли семейное положение и количество детей клиента на факт погашения кредита в срок."
   ]
  },
  {
   "cell_type": "markdown",
   "id": "95fc2ebd",
   "metadata": {},
   "source": [
    "Ответим и на этот вопрос. Тем более это хороший повод наконец применить сводные таблицы, которые ранее никак не пригождались. Выведем процент кредитных задолженностей для перечисленных категорий. Для категории `'children'` сделаем вывод только для первых четырёх значений. Т.е. для количества детей 0 - 3. Значения количества детей 4 и 5 являются недостоверными в предоставленных данных в этом рассмотрении."
   ]
  },
  {
   "cell_type": "code",
   "execution_count": 44,
   "id": "cb6a531b",
   "metadata": {},
   "outputs": [
    {
     "data": {
      "text/html": [
       "<div>\n",
       "<style scoped>\n",
       "    .dataframe tbody tr th:only-of-type {\n",
       "        vertical-align: middle;\n",
       "    }\n",
       "\n",
       "    .dataframe tbody tr th {\n",
       "        vertical-align: top;\n",
       "    }\n",
       "\n",
       "    .dataframe thead th {\n",
       "        text-align: right;\n",
       "    }\n",
       "</style>\n",
       "<table border=\"1\" class=\"dataframe\">\n",
       "  <thead>\n",
       "    <tr style=\"text-align: right;\">\n",
       "      <th>children</th>\n",
       "      <th>0.0</th>\n",
       "      <th>1.0</th>\n",
       "      <th>2.0</th>\n",
       "      <th>3.0</th>\n",
       "    </tr>\n",
       "    <tr>\n",
       "      <th>family_status</th>\n",
       "      <th></th>\n",
       "      <th></th>\n",
       "      <th></th>\n",
       "      <th></th>\n",
       "    </tr>\n",
       "  </thead>\n",
       "  <tbody>\n",
       "    <tr>\n",
       "      <th>Не женат / не замужем</th>\n",
       "      <td>9.3%</td>\n",
       "      <td>11.6%</td>\n",
       "      <td>12.0%</td>\n",
       "      <td>12.5%</td>\n",
       "    </tr>\n",
       "    <tr>\n",
       "      <th>в разводе</th>\n",
       "      <td>7.0%</td>\n",
       "      <td>6.7%</td>\n",
       "      <td>8.6%</td>\n",
       "      <td>9.1%</td>\n",
       "    </tr>\n",
       "    <tr>\n",
       "      <th>вдовец / вдова</th>\n",
       "      <td>6.3%</td>\n",
       "      <td>9.1%</td>\n",
       "      <td>15.0%</td>\n",
       "      <td>0.0%</td>\n",
       "    </tr>\n",
       "    <tr>\n",
       "      <th>гражданский брак</th>\n",
       "      <td>8.4%</td>\n",
       "      <td>11.9%</td>\n",
       "      <td>8.7%</td>\n",
       "      <td>14.3%</td>\n",
       "    </tr>\n",
       "    <tr>\n",
       "      <th>женат / замужем</th>\n",
       "      <td>6.9%</td>\n",
       "      <td>8.3%</td>\n",
       "      <td>9.5%</td>\n",
       "      <td>6.8%</td>\n",
       "    </tr>\n",
       "  </tbody>\n",
       "</table>\n",
       "</div>"
      ],
      "text/plain": [
       "children                0.0    1.0    2.0    3.0\n",
       "family_status                                   \n",
       "Не женат / не замужем  9.3%  11.6%  12.0%  12.5%\n",
       "в разводе              7.0%   6.7%   8.6%   9.1%\n",
       "вдовец / вдова         6.3%   9.1%  15.0%   0.0%\n",
       "гражданский брак       8.4%  11.9%   8.7%  14.3%\n",
       "женат / замужем        6.9%   8.3%   9.5%   6.8%"
      ]
     },
     "metadata": {},
     "output_type": "display_data"
    }
   ],
   "source": [
    "try:\n",
    "    display(data.pivot_table(index='family_status',\\\n",
    "                 columns=data[data['children'] < 4]['children'],\\\n",
    "                 values='debt',\\\n",
    "                 aggfunc=lambda x : f'{x.sum() / x.count():.1%}'))\n",
    "except:\n",
    "    print('Что-то поделилось на ноль')"
   ]
  },
  {
   "cell_type": "markdown",
   "id": "ac5ef794",
   "metadata": {},
   "source": [
    "Также подсчитаем обшибки выборок для сводной таблицы выше. Будем использовать `numpy.sqrt()` вместо `math.sqrt()` из-за удобства работы с массивами и сериями:"
   ]
  },
  {
   "cell_type": "code",
   "execution_count": 45,
   "id": "48d5df63",
   "metadata": {
    "scrolled": false
   },
   "outputs": [
    {
     "data": {
      "text/html": [
       "<div>\n",
       "<style scoped>\n",
       "    .dataframe tbody tr th:only-of-type {\n",
       "        vertical-align: middle;\n",
       "    }\n",
       "\n",
       "    .dataframe tbody tr th {\n",
       "        vertical-align: top;\n",
       "    }\n",
       "\n",
       "    .dataframe thead th {\n",
       "        text-align: right;\n",
       "    }\n",
       "</style>\n",
       "<table border=\"1\" class=\"dataframe\">\n",
       "  <thead>\n",
       "    <tr style=\"text-align: right;\">\n",
       "      <th>children</th>\n",
       "      <th>0.0</th>\n",
       "      <th>1.0</th>\n",
       "      <th>2.0</th>\n",
       "      <th>3.0</th>\n",
       "    </tr>\n",
       "    <tr>\n",
       "      <th>family_status</th>\n",
       "      <th></th>\n",
       "      <th></th>\n",
       "      <th></th>\n",
       "      <th></th>\n",
       "    </tr>\n",
       "  </thead>\n",
       "  <tbody>\n",
       "    <tr>\n",
       "      <th>Не женат / не замужем</th>\n",
       "      <td>2.1%</td>\n",
       "      <td>4.6%</td>\n",
       "      <td>11.3%</td>\n",
       "      <td>34.6%</td>\n",
       "    </tr>\n",
       "    <tr>\n",
       "      <th>в разводе</th>\n",
       "      <td>3.5%</td>\n",
       "      <td>5.5%</td>\n",
       "      <td>10.9%</td>\n",
       "      <td>29.5%</td>\n",
       "    </tr>\n",
       "    <tr>\n",
       "      <th>вдовец / вдова</th>\n",
       "      <td>3.4%</td>\n",
       "      <td>11.2%</td>\n",
       "      <td>21.9%</td>\n",
       "      <td>40.0%</td>\n",
       "    </tr>\n",
       "    <tr>\n",
       "      <th>гражданский брак</th>\n",
       "      <td>1.9%</td>\n",
       "      <td>3.1%</td>\n",
       "      <td>5.3%</td>\n",
       "      <td>13.1%</td>\n",
       "    </tr>\n",
       "    <tr>\n",
       "      <th>женат / замужем</th>\n",
       "      <td>1.1%</td>\n",
       "      <td>1.8%</td>\n",
       "      <td>2.5%</td>\n",
       "      <td>6.2%</td>\n",
       "    </tr>\n",
       "  </tbody>\n",
       "</table>\n",
       "</div>"
      ],
      "text/plain": [
       "children                0.0    1.0    2.0    3.0\n",
       "family_status                                   \n",
       "Не женат / не замужем  2.1%   4.6%  11.3%  34.6%\n",
       "в разводе              3.5%   5.5%  10.9%  29.5%\n",
       "вдовец / вдова         3.4%  11.2%  21.9%  40.0%\n",
       "гражданский брак       1.9%   3.1%   5.3%  13.1%\n",
       "женат / замужем        1.1%   1.8%   2.5%   6.2%"
      ]
     },
     "metadata": {},
     "output_type": "display_data"
    }
   ],
   "source": [
    "try:\n",
    "    display(data.pivot_table(index='family_status',\\\n",
    "                 columns=data[data['children'] < 4]['children'],\\\n",
    "                 values='debt',\\\n",
    "                 aggfunc=lambda x :\\\n",
    "                 f'{1.96 * np.sqrt(0.5 * 0.5 / x.count()):.1%}'))\n",
    "except:\n",
    "    print('Что-то поделилось на ноль')"
   ]
  },
  {
   "cell_type": "markdown",
   "id": "c84e04da",
   "metadata": {
    "deletable": false,
    "editable": false,
    "id": "6db5255a"
   },
   "source": [
    "### Шаг 4: общий вывод."
   ]
  },
  {
   "cell_type": "markdown",
   "id": "aeb09900",
   "metadata": {
    "deletable": false,
    "id": "bad65432"
   },
   "source": [
    "<div class=\"alert alert-info\">\n",
    "<b>Цель исследования</b><br>\n",
    "Итак, целью настоящего исследования являлось определение влияния семейного положения и количества детей клиента на факт погашения кредита в срок. Затем эта информация предоставляется в кредитный отдел банка для последующего  построения модели кредитного скоринга — специальной системы, которая оценивает способность потенциального заёмщика вернуть кредит банку.<br><br>\n",
    "\n",
    "<b>Исходные данные</b><br>\n",
    "Таблица в формате Comma-Separated Values содержащая следующие позиции\n",
    "- 'children' — количество детей в семье\n",
    "- 'days_employed' — общий трудовой стаж в днях\n",
    "- 'dob_years' — возраст клиента в годах\n",
    "- 'education' — уровень образования клиента\n",
    "- 'education_id' — идентификатор уровня образования\n",
    "- 'family_status' — семейное положение\n",
    "- 'family_status_id' — идентификатор семейного положения\n",
    "- 'gender' — пол клиента\n",
    "- 'income_type' — тип занятости\n",
    "- 'debt' — имел ли задолженность по возврату кредитов\n",
    "- 'total_income' — ежемесячный доход\n",
    "- 'purpose' — цель получения кредита<br><br>\n",
    "\n",
    "<b>Предварительная обработка данных</b><br>\n",
    "Предварительная обработка данных выявила наличие пропусков в столбцах типа float64 - 'days_employed' и 'total_income'. Пропуски 'total_income' были заменены медианными значениями по каждому типу из столбца 'income_type'. Таким же образом были заменены пропуски в столбце 'days_employed\n",
    "\n",
    "Кроме того, произведено исправление аномальных данных столбца количества детей в семье 'children' и аномальные значения столбца 'days_employed' для двух типов занятости - безработные и пенсионеры. Последние аномалии исправить сложно, и они оставлены без изменений.\n",
    "\n",
    "Для удобства дальнейшей работы с данными была произведена категоризация общего дохода 'total_income' в 'total_income_category':\n",
    "- 0–30,000 — 'E';\n",
    "- 30,001–50,000 — 'D';\n",
    "- 50,001–200,000 — 'C';\n",
    "- 200,001–1,000,000 — 'B';\n",
    "- 1,000,001 и выше — 'A'.\n",
    "\n",
    "а также категоризация столбца назначения кредита 'purpose' в новый столбец 'purpose_category' содержащий следующие категории:\n",
    "- 'операции с автомобилем',\n",
    "- 'операции с недвижимостью',\n",
    "- 'проведение свадьбы',\n",
    "- 'получение образования'.<br><br>\n",
    "\n",
    "<b>Исследование зависимостей</b><br>\n",
    "Для исследования зависимости определим процент просроченных кредитов как отношение количества просроченных кредитов к общему количеству взятых и применим этот процент последовательно для всех пар зависимостей:\n",
    "- зависимость между количеством детей и возвратом кредита в срок (пара 'children' - 'debt')\n",
    "- зависимость между семейным положением и возвратом кредита в срок (пара 'family_status' - 'debt')\n",
    "- зависимость между уровнем дохода и возвратом кредита в срок (пара 'total_income_category' - 'debt')\n",
    "- зависимость возврата кредита в срок от цели этого кредита (пара 'purpose_category' - 'debt')\n",
    "Вспомогательным инструментом при исследование вышеперечисленных зависимостей являлась оценки достоверности каждой выборки для каждой пары. Достоверность выборки характеризует вероятность того, что выборка окажется значимой для отобранных результатов и оценивается расчетом её ошибки $\\Delta$.\n",
    "\n",
    "Оценка достоверности выборок по критерию $\\Delta \\leq 4\\%$ показала необходимость исключить из рассмотрения некоторые категории выборок из-за существенно высокой ошибки вследствии недостаточного объёма статистических данных.<br><br>\n",
    "\n",
    "<b>Промежуточные выводы исследований по каждой паре данных</b><br>\n",
    "\n",
    "<i>\"Зависимость между количеством детей в домохозяйстве и возвратом кредита в срок\"</i> распределяются по финансовой дисциплине в прядке ухудшения следующим образом:<br>\n",
    "- Количество детей: 0\n",
    "- Количество детей: 3<sup>*</sup>\n",
    "- Количество детей: 1\n",
    "- Количество детей: 2\n",
    "    \n",
    "<sup>*</sup>Предлагается не включать в последующие выводы.<br><br>\n",
    "\n",
    "<i>\"Зависимость между Семейным статусом домохозяйства и возвратом кредита в срок\"</i>  в порядке убывания финансовой дисциплины:\n",
    "\n",
    "- Вдовец / вдова\n",
    "- В разводе\n",
    "- Женат / замужем\n",
    "- Гражданский брак\n",
    "- Не женат / не замужем<br><br>\n",
    "\n",
    "<i>\"Зависимость между уровнем дохода домохозяйства и возвратом кредита в срок\"</i> в порядке уменьшения финансовой дисциплины категории \"уровня дохода\" распределяются так:\n",
    "\n",
    "- 'D' (30,001–50,000)<sup>*</sup>\n",
    "- 'B' (200,001–1,000,000)\n",
    "- 'C' (50,001–200,000)\n",
    "\n",
    "<sup>*</sup>Предлагается не включать в последующие выводы.<br><br>\n",
    "\n",
    "<i>\"Зависимость между целью кредита домохозяйства и возвратом кредита в срок\"</i>  в порядке убывания финансовой дисциплины:\n",
    "- операции с недвижимостью\n",
    "- проведение свадьбы\n",
    "- получение образования\n",
    "- операции с автомобилем<br><br>\n",
    "\n",
    "<b>Общий вывод</b><br>\n",
    "Для дальнейших исследований из предоставленных данных можно выделить ещё несколько пар данных, однако это задача может быть решена уже в продолжении к данному исследованию. На данный момент можно утверждать, что наиболее надежный заёмщик банка это <i>бездетная вдова/вдовец с уровнем дохода 200,001–1,000,000 и берущая кредит на операции с недвижимостью</i>.\n",
    "\n",
    "В описании проектной работы также указывалась цель разобраться влияет ли семейное положение и количество детей клиента на факт погашения кредита в срок. Ниже сводная таблица по требуемым категориям. Значения - процент непогашенных вовремя кредитов по категориям:\n",
    "    \n",
    "Количество детей          |0    |1    |2    |3\n",
    ":-------------------------|:---:|:---:|:---:|:---:\n",
    "**Семейное положение**    |     |     |     |\n",
    "**Не женат / не замужем** |9.3% |11.6%|12.0%|12.5%\n",
    "**В разводе**             |7.0% |6.7% |8.6% |9.1%\n",
    "**Вдовец / вдова**        |6.3% |9.1% |15.0%|0.0%\n",
    "**Гражданский брак**\t  |8.4% |11.9%|8.7% |14.3%\n",
    "**Женат / замужем**       |6.9% |8.3% |9.5% |6.8%\n",
    "    \n",
    "Обшибки выборок для сводной таблицы выше:\n",
    "    \n",
    "Количество детей          |0    |1    |2    |3\n",
    ":-------------------------|:---:|:---:|:---:|:---:\n",
    "**Семейное положение**    |     |     |     |\n",
    "**Не женат / не замужем** |2.1% |4.6% |11.3%|34.6%\n",
    "**В разводе**             |3.5% |5.5% |10.9%|29.5%\n",
    "**Вдовец / вдова**        |3.4% |11.2%|21.9%|40.0%\n",
    "**Гражданский брак**\t  |1.9% |3.1% |5.3% |13.1%\n",
    "**Женат / замужем**       |1.1% |1.8% |2.5% |6.2%\n",
    "    \n",
    "Данные для которых $\\Delta>4\\%$ необходимо либо исключить из рассмотрения при значительном превышении, либо относиться с осторожностью при пограничном значении."
   ]
  }
 ],
 "metadata": {
  "ExecuteTimeLog": [
   {
    "duration": 739,
    "start_time": "2023-03-07T23:10:50.385Z"
   },
   {
    "duration": 31,
    "start_time": "2023-03-07T23:10:51.127Z"
   },
   {
    "duration": 14,
    "start_time": "2023-03-07T23:10:51.160Z"
   },
   {
    "duration": 10,
    "start_time": "2023-03-07T23:10:51.176Z"
   },
   {
    "duration": 32,
    "start_time": "2023-03-07T23:10:51.188Z"
   },
   {
    "duration": 3,
    "start_time": "2023-03-07T23:10:51.222Z"
   },
   {
    "duration": 12,
    "start_time": "2023-03-07T23:10:51.226Z"
   },
   {
    "duration": 8,
    "start_time": "2023-03-07T23:10:51.240Z"
   },
   {
    "duration": 37,
    "start_time": "2023-03-07T23:10:51.250Z"
   },
   {
    "duration": 5,
    "start_time": "2023-03-07T23:10:51.290Z"
   },
   {
    "duration": 37,
    "start_time": "2023-03-07T23:10:51.296Z"
   },
   {
    "duration": 11,
    "start_time": "2023-03-07T23:10:51.336Z"
   },
   {
    "duration": 5,
    "start_time": "2023-03-07T23:10:51.348Z"
   },
   {
    "duration": 13,
    "start_time": "2023-03-07T23:10:51.379Z"
   },
   {
    "duration": 23,
    "start_time": "2023-03-07T23:10:51.394Z"
   },
   {
    "duration": 21,
    "start_time": "2023-03-07T23:10:51.418Z"
   },
   {
    "duration": 4,
    "start_time": "2023-03-07T23:10:51.440Z"
   },
   {
    "duration": 38,
    "start_time": "2023-03-07T23:10:51.446Z"
   },
   {
    "duration": 13,
    "start_time": "2023-03-07T23:10:51.486Z"
   },
   {
    "duration": 18,
    "start_time": "2023-03-07T23:10:51.500Z"
   },
   {
    "duration": 14,
    "start_time": "2023-03-07T23:10:51.520Z"
   },
   {
    "duration": 14,
    "start_time": "2023-03-07T23:10:51.536Z"
   },
   {
    "duration": 7,
    "start_time": "2023-03-07T23:10:51.552Z"
   },
   {
    "duration": 7,
    "start_time": "2023-03-07T23:10:51.561Z"
   },
   {
    "duration": 7,
    "start_time": "2023-03-07T23:10:51.580Z"
   },
   {
    "duration": 912,
    "start_time": "2023-03-07T23:10:51.588Z"
   },
   {
    "duration": 148,
    "start_time": "2023-03-07T23:10:52.502Z"
   },
   {
    "duration": 145,
    "start_time": "2023-03-07T23:10:52.653Z"
   },
   {
    "duration": 8,
    "start_time": "2023-03-07T23:10:52.800Z"
   },
   {
    "duration": 7,
    "start_time": "2023-03-07T23:10:52.809Z"
   },
   {
    "duration": 11,
    "start_time": "2023-03-07T23:10:52.818Z"
   },
   {
    "duration": 180,
    "start_time": "2023-03-07T23:10:52.831Z"
   },
   {
    "duration": 155,
    "start_time": "2023-03-07T23:10:53.012Z"
   },
   {
    "duration": 15,
    "start_time": "2023-03-07T23:10:53.168Z"
   },
   {
    "duration": 6,
    "start_time": "2023-03-07T23:10:53.185Z"
   },
   {
    "duration": 5,
    "start_time": "2023-03-07T23:10:53.192Z"
   },
   {
    "duration": 140,
    "start_time": "2023-03-07T23:10:53.199Z"
   },
   {
    "duration": 144,
    "start_time": "2023-03-07T23:10:53.341Z"
   },
   {
    "duration": 7,
    "start_time": "2023-03-07T23:10:53.487Z"
   },
   {
    "duration": 6,
    "start_time": "2023-03-07T23:10:53.496Z"
   },
   {
    "duration": 7,
    "start_time": "2023-03-07T23:10:53.504Z"
   },
   {
    "duration": 155,
    "start_time": "2023-03-07T23:10:53.512Z"
   },
   {
    "duration": 230,
    "start_time": "2023-03-07T23:10:53.669Z"
   },
   {
    "duration": 37,
    "start_time": "2023-03-07T23:10:53.901Z"
   },
   {
    "duration": 4,
    "start_time": "2023-03-07T23:16:11.848Z"
   },
   {
    "duration": 391,
    "start_time": "2023-03-07T23:19:06.611Z"
   },
   {
    "duration": 7,
    "start_time": "2023-03-07T23:19:22.248Z"
   },
   {
    "duration": 300,
    "start_time": "2023-03-07T23:27:02.753Z"
   },
   {
    "duration": 237,
    "start_time": "2023-03-07T23:30:06.770Z"
   },
   {
    "duration": 220,
    "start_time": "2023-03-07T23:34:50.409Z"
   },
   {
    "duration": 247,
    "start_time": "2023-03-07T23:35:04.390Z"
   },
   {
    "duration": 718,
    "start_time": "2023-03-08T20:43:21.143Z"
   },
   {
    "duration": 20,
    "start_time": "2023-03-08T20:43:21.863Z"
   },
   {
    "duration": 14,
    "start_time": "2023-03-08T20:43:21.885Z"
   },
   {
    "duration": 9,
    "start_time": "2023-03-08T20:43:21.900Z"
   },
   {
    "duration": 55,
    "start_time": "2023-03-08T20:43:21.910Z"
   },
   {
    "duration": 3,
    "start_time": "2023-03-08T20:43:21.967Z"
   },
   {
    "duration": 13,
    "start_time": "2023-03-08T20:43:21.971Z"
   },
   {
    "duration": 9,
    "start_time": "2023-03-08T20:43:21.986Z"
   },
   {
    "duration": 9,
    "start_time": "2023-03-08T20:43:21.996Z"
   },
   {
    "duration": 7,
    "start_time": "2023-03-08T20:43:22.008Z"
   },
   {
    "duration": 45,
    "start_time": "2023-03-08T20:43:22.016Z"
   },
   {
    "duration": 8,
    "start_time": "2023-03-08T20:43:22.063Z"
   },
   {
    "duration": 4,
    "start_time": "2023-03-08T20:43:22.073Z"
   },
   {
    "duration": 12,
    "start_time": "2023-03-08T20:43:22.078Z"
   },
   {
    "duration": 19,
    "start_time": "2023-03-08T20:43:22.091Z"
   },
   {
    "duration": 46,
    "start_time": "2023-03-08T20:43:22.111Z"
   },
   {
    "duration": 3,
    "start_time": "2023-03-08T20:43:22.159Z"
   },
   {
    "duration": 12,
    "start_time": "2023-03-08T20:43:22.163Z"
   },
   {
    "duration": 8,
    "start_time": "2023-03-08T20:43:22.176Z"
   },
   {
    "duration": 4,
    "start_time": "2023-03-08T20:43:22.185Z"
   },
   {
    "duration": 13,
    "start_time": "2023-03-08T20:43:22.190Z"
   },
   {
    "duration": 5,
    "start_time": "2023-03-08T20:43:22.205Z"
   },
   {
    "duration": 33,
    "start_time": "2023-03-08T20:43:22.212Z"
   },
   {
    "duration": 5,
    "start_time": "2023-03-08T20:43:22.246Z"
   },
   {
    "duration": 11,
    "start_time": "2023-03-08T20:43:22.252Z"
   },
   {
    "duration": 9,
    "start_time": "2023-03-08T20:43:22.264Z"
   },
   {
    "duration": 902,
    "start_time": "2023-03-08T20:43:22.274Z"
   },
   {
    "duration": 167,
    "start_time": "2023-03-08T20:43:23.179Z"
   },
   {
    "duration": 293,
    "start_time": "2023-03-08T20:43:23.348Z"
   },
   {
    "duration": 9,
    "start_time": "2023-03-08T20:43:23.642Z"
   },
   {
    "duration": 8,
    "start_time": "2023-03-08T20:43:23.653Z"
   },
   {
    "duration": 9,
    "start_time": "2023-03-08T20:43:23.662Z"
   },
   {
    "duration": 154,
    "start_time": "2023-03-08T20:43:23.672Z"
   },
   {
    "duration": 165,
    "start_time": "2023-03-08T20:43:23.827Z"
   },
   {
    "duration": 7,
    "start_time": "2023-03-08T20:43:23.994Z"
   },
   {
    "duration": 8,
    "start_time": "2023-03-08T20:43:24.003Z"
   },
   {
    "duration": 22,
    "start_time": "2023-03-08T20:43:24.012Z"
   },
   {
    "duration": 136,
    "start_time": "2023-03-08T20:43:24.037Z"
   },
   {
    "duration": 260,
    "start_time": "2023-03-08T20:43:24.175Z"
   },
   {
    "duration": 11,
    "start_time": "2023-03-08T20:43:24.439Z"
   },
   {
    "duration": 9,
    "start_time": "2023-03-08T20:43:24.452Z"
   },
   {
    "duration": 9,
    "start_time": "2023-03-08T20:43:24.463Z"
   },
   {
    "duration": 170,
    "start_time": "2023-03-08T20:43:24.474Z"
   },
   {
    "duration": 230,
    "start_time": "2023-03-08T20:43:24.646Z"
   },
   {
    "duration": 35,
    "start_time": "2023-03-08T20:43:24.877Z"
   },
   {
    "duration": 42,
    "start_time": "2023-03-08T20:43:24.914Z"
   },
   {
    "duration": 432,
    "start_time": "2023-03-08T22:07:07.678Z"
   },
   {
    "duration": 21,
    "start_time": "2023-03-08T22:07:08.111Z"
   },
   {
    "duration": 23,
    "start_time": "2023-03-08T22:07:08.134Z"
   },
   {
    "duration": 10,
    "start_time": "2023-03-08T22:07:08.159Z"
   },
   {
    "duration": 33,
    "start_time": "2023-03-08T22:07:08.170Z"
   },
   {
    "duration": 43,
    "start_time": "2023-03-08T22:07:08.205Z"
   },
   {
    "duration": 18,
    "start_time": "2023-03-08T22:07:08.249Z"
   },
   {
    "duration": 9,
    "start_time": "2023-03-08T22:07:08.269Z"
   },
   {
    "duration": 18,
    "start_time": "2023-03-08T22:07:08.280Z"
   },
   {
    "duration": 7,
    "start_time": "2023-03-08T22:07:08.301Z"
   },
   {
    "duration": 38,
    "start_time": "2023-03-08T22:07:08.309Z"
   },
   {
    "duration": 9,
    "start_time": "2023-03-08T22:07:08.348Z"
   },
   {
    "duration": 7,
    "start_time": "2023-03-08T22:07:08.358Z"
   },
   {
    "duration": 16,
    "start_time": "2023-03-08T22:07:08.366Z"
   },
   {
    "duration": 21,
    "start_time": "2023-03-08T22:07:08.383Z"
   },
   {
    "duration": 26,
    "start_time": "2023-03-08T22:07:08.406Z"
   },
   {
    "duration": 3,
    "start_time": "2023-03-08T22:07:08.434Z"
   },
   {
    "duration": 25,
    "start_time": "2023-03-08T22:07:08.439Z"
   },
   {
    "duration": 6,
    "start_time": "2023-03-08T22:07:08.466Z"
   },
   {
    "duration": 23,
    "start_time": "2023-03-08T22:07:08.473Z"
   },
   {
    "duration": 16,
    "start_time": "2023-03-08T22:07:08.497Z"
   },
   {
    "duration": 6,
    "start_time": "2023-03-08T22:07:08.514Z"
   },
   {
    "duration": 11,
    "start_time": "2023-03-08T22:07:08.521Z"
   },
   {
    "duration": 10,
    "start_time": "2023-03-08T22:07:08.534Z"
   },
   {
    "duration": 10,
    "start_time": "2023-03-08T22:07:08.545Z"
   },
   {
    "duration": 10,
    "start_time": "2023-03-08T22:07:08.557Z"
   },
   {
    "duration": 708,
    "start_time": "2023-03-08T22:07:08.569Z"
   },
   {
    "duration": 159,
    "start_time": "2023-03-08T22:07:09.280Z"
   },
   {
    "duration": 254,
    "start_time": "2023-03-08T22:07:09.441Z"
   },
   {
    "duration": 7,
    "start_time": "2023-03-08T22:07:09.697Z"
   },
   {
    "duration": 76,
    "start_time": "2023-03-08T22:07:09.706Z"
   },
   {
    "duration": 10,
    "start_time": "2023-03-08T22:07:09.784Z"
   },
   {
    "duration": 149,
    "start_time": "2023-03-08T22:07:09.796Z"
   },
   {
    "duration": 157,
    "start_time": "2023-03-08T22:07:09.946Z"
   },
   {
    "duration": 8,
    "start_time": "2023-03-08T22:07:10.105Z"
   },
   {
    "duration": 19,
    "start_time": "2023-03-08T22:07:10.115Z"
   },
   {
    "duration": 12,
    "start_time": "2023-03-08T22:07:10.136Z"
   },
   {
    "duration": 134,
    "start_time": "2023-03-08T22:07:10.149Z"
   },
   {
    "duration": 247,
    "start_time": "2023-03-08T22:07:10.286Z"
   },
   {
    "duration": 9,
    "start_time": "2023-03-08T22:07:10.535Z"
   },
   {
    "duration": 5,
    "start_time": "2023-03-08T22:07:10.545Z"
   },
   {
    "duration": 8,
    "start_time": "2023-03-08T22:07:10.551Z"
   },
   {
    "duration": 146,
    "start_time": "2023-03-08T22:07:10.560Z"
   },
   {
    "duration": 148,
    "start_time": "2023-03-08T22:07:10.708Z"
   },
   {
    "duration": 30,
    "start_time": "2023-03-08T22:07:10.858Z"
   },
   {
    "duration": 42,
    "start_time": "2023-03-08T22:07:10.890Z"
   }
  ],
  "colab": {
   "name": "dpp_template_part2.ipynb",
   "provenance": []
  },
  "kernelspec": {
   "display_name": "Python 3 (ipykernel)",
   "language": "python",
   "name": "python3"
  },
  "language_info": {
   "codemirror_mode": {
    "name": "ipython",
    "version": 3
   },
   "file_extension": ".py",
   "mimetype": "text/x-python",
   "name": "python",
   "nbconvert_exporter": "python",
   "pygments_lexer": "ipython3",
   "version": "3.9.16"
  },
  "toc": {
   "base_numbering": 1,
   "nav_menu": {},
   "number_sections": true,
   "sideBar": true,
   "skip_h1_title": true,
   "title_cell": "Table of Contents",
   "title_sidebar": "Contents",
   "toc_cell": false,
   "toc_position": {
    "height": "calc(100% - 180px)",
    "left": "10px",
    "top": "150px",
    "width": "202.988px"
   },
   "toc_section_display": true,
   "toc_window_display": true
  },
  "varInspector": {
   "cols": {
    "lenName": 16,
    "lenType": 16,
    "lenVar": 40
   },
   "kernels_config": {
    "python": {
     "delete_cmd_postfix": "",
     "delete_cmd_prefix": "del ",
     "library": "var_list.py",
     "varRefreshCmd": "print(var_dic_list())"
    },
    "r": {
     "delete_cmd_postfix": ") ",
     "delete_cmd_prefix": "rm(",
     "library": "var_list.r",
     "varRefreshCmd": "cat(var_dic_list()) "
    }
   },
   "types_to_exclude": [
    "module",
    "function",
    "builtin_function_or_method",
    "instance",
    "_Feature"
   ],
   "window_display": false
  }
 },
 "nbformat": 4,
 "nbformat_minor": 5
}
